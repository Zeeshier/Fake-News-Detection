{
 "cells": [
  {
   "cell_type": "markdown",
   "id": "c61d1ddd",
   "metadata": {
    "papermill": {
     "duration": 0.008437,
     "end_time": "2025-03-07T14:45:00.055627",
     "exception": false,
     "start_time": "2025-03-07T14:45:00.047190",
     "status": "completed"
    },
    "tags": []
   },
   "source": [
    "# **Fake News Detection**"
   ]
  },
  {
   "cell_type": "code",
   "execution_count": 1,
   "id": "02a3cbe2",
   "metadata": {
    "_cell_guid": "b1076dfc-b9ad-4769-8c92-a6c4dae69d19",
    "_uuid": "8f2839f25d086af736a60e9eeb907d3b93b6e0e5",
    "execution": {
     "iopub.execute_input": "2025-03-07T14:45:00.072259Z",
     "iopub.status.busy": "2025-03-07T14:45:00.071962Z",
     "iopub.status.idle": "2025-03-07T14:45:00.085978Z",
     "shell.execute_reply": "2025-03-07T14:45:00.085202Z"
    },
    "papermill": {
     "duration": 0.023877,
     "end_time": "2025-03-07T14:45:00.087335",
     "exception": false,
     "start_time": "2025-03-07T14:45:00.063458",
     "status": "completed"
    },
    "tags": []
   },
   "outputs": [
    {
     "name": "stdout",
     "output_type": "stream",
     "text": [
      "/kaggle/input/fake-news-detection/data.h5\n",
      "/kaggle/input/fake-news-detection/data.csv\n"
     ]
    }
   ],
   "source": [
    "# Import Data\n",
    "import os\n",
    "for dirname, _, filenames in os.walk('/kaggle/input'):\n",
    "    for filename in filenames:\n",
    "        print(os.path.join(dirname, filename))"
   ]
  },
  {
   "cell_type": "markdown",
   "id": "029faf2d",
   "metadata": {
    "papermill": {
     "duration": 0.007323,
     "end_time": "2025-03-07T14:45:00.102510",
     "exception": false,
     "start_time": "2025-03-07T14:45:00.095187",
     "status": "completed"
    },
    "tags": []
   },
   "source": [
    "## **Data Exploration**"
   ]
  },
  {
   "cell_type": "code",
   "execution_count": 2,
   "id": "ba370a7a",
   "metadata": {
    "execution": {
     "iopub.execute_input": "2025-03-07T14:45:00.119590Z",
     "iopub.status.busy": "2025-03-07T14:45:00.119288Z",
     "iopub.status.idle": "2025-03-07T14:45:00.844485Z",
     "shell.execute_reply": "2025-03-07T14:45:00.843559Z"
    },
    "papermill": {
     "duration": 0.736043,
     "end_time": "2025-03-07T14:45:00.846043",
     "exception": false,
     "start_time": "2025-03-07T14:45:00.110000",
     "status": "completed"
    },
    "tags": []
   },
   "outputs": [],
   "source": [
    "import pandas as pd\n",
    "import numpy as np"
   ]
  },
  {
   "cell_type": "code",
   "execution_count": 3,
   "id": "cd7bc58c",
   "metadata": {
    "execution": {
     "iopub.execute_input": "2025-03-07T14:45:00.863214Z",
     "iopub.status.busy": "2025-03-07T14:45:00.862819Z",
     "iopub.status.idle": "2025-03-07T14:45:01.227406Z",
     "shell.execute_reply": "2025-03-07T14:45:01.226723Z"
    },
    "papermill": {
     "duration": 0.374984,
     "end_time": "2025-03-07T14:45:01.229114",
     "exception": false,
     "start_time": "2025-03-07T14:45:00.854130",
     "status": "completed"
    },
    "tags": []
   },
   "outputs": [],
   "source": [
    "data = pd.read_csv('/kaggle/input/fake-news-detection/data.csv')"
   ]
  },
  {
   "cell_type": "code",
   "execution_count": 4,
   "id": "6066220c",
   "metadata": {
    "execution": {
     "iopub.execute_input": "2025-03-07T14:45:01.246178Z",
     "iopub.status.busy": "2025-03-07T14:45:01.245903Z",
     "iopub.status.idle": "2025-03-07T14:45:01.269132Z",
     "shell.execute_reply": "2025-03-07T14:45:01.268278Z"
    },
    "papermill": {
     "duration": 0.033046,
     "end_time": "2025-03-07T14:45:01.270485",
     "exception": false,
     "start_time": "2025-03-07T14:45:01.237439",
     "status": "completed"
    },
    "tags": []
   },
   "outputs": [
    {
     "data": {
      "text/html": [
       "<div>\n",
       "<style scoped>\n",
       "    .dataframe tbody tr th:only-of-type {\n",
       "        vertical-align: middle;\n",
       "    }\n",
       "\n",
       "    .dataframe tbody tr th {\n",
       "        vertical-align: top;\n",
       "    }\n",
       "\n",
       "    .dataframe thead th {\n",
       "        text-align: right;\n",
       "    }\n",
       "</style>\n",
       "<table border=\"1\" class=\"dataframe\">\n",
       "  <thead>\n",
       "    <tr style=\"text-align: right;\">\n",
       "      <th></th>\n",
       "      <th>URLs</th>\n",
       "      <th>Headline</th>\n",
       "      <th>Body</th>\n",
       "      <th>Label</th>\n",
       "    </tr>\n",
       "  </thead>\n",
       "  <tbody>\n",
       "    <tr>\n",
       "      <th>0</th>\n",
       "      <td>http://www.bbc.com/news/world-us-canada-414191...</td>\n",
       "      <td>Four ways Bob Corker skewered Donald Trump</td>\n",
       "      <td>Image copyright Getty Images\\nOn Sunday mornin...</td>\n",
       "      <td>1</td>\n",
       "    </tr>\n",
       "    <tr>\n",
       "      <th>1</th>\n",
       "      <td>https://www.reuters.com/article/us-filmfestiva...</td>\n",
       "      <td>Linklater's war veteran comedy speaks to moder...</td>\n",
       "      <td>LONDON (Reuters) - “Last Flag Flying”, a comed...</td>\n",
       "      <td>1</td>\n",
       "    </tr>\n",
       "    <tr>\n",
       "      <th>2</th>\n",
       "      <td>https://www.nytimes.com/2017/10/09/us/politics...</td>\n",
       "      <td>Trump’s Fight With Corker Jeopardizes His Legi...</td>\n",
       "      <td>The feud broke into public view last week when...</td>\n",
       "      <td>1</td>\n",
       "    </tr>\n",
       "    <tr>\n",
       "      <th>3</th>\n",
       "      <td>https://www.reuters.com/article/us-mexico-oil-...</td>\n",
       "      <td>Egypt's Cheiron wins tie-up with Pemex for Mex...</td>\n",
       "      <td>MEXICO CITY (Reuters) - Egypt’s Cheiron Holdin...</td>\n",
       "      <td>1</td>\n",
       "    </tr>\n",
       "    <tr>\n",
       "      <th>4</th>\n",
       "      <td>http://www.cnn.com/videos/cnnmoney/2017/10/08/...</td>\n",
       "      <td>Jason Aldean opens 'SNL' with Vegas tribute</td>\n",
       "      <td>Country singer Jason Aldean, who was performin...</td>\n",
       "      <td>1</td>\n",
       "    </tr>\n",
       "    <tr>\n",
       "      <th>5</th>\n",
       "      <td>http://beforeitsnews.com/sports/2017/09/jetnat...</td>\n",
       "      <td>JetNation FanDuel League; Week 4</td>\n",
       "      <td>JetNation FanDuel League; Week 4\\n% of readers...</td>\n",
       "      <td>0</td>\n",
       "    </tr>\n",
       "    <tr>\n",
       "      <th>6</th>\n",
       "      <td>https://www.nytimes.com/2017/10/10/us/politics...</td>\n",
       "      <td>Kansas Tried a Tax Plan Similar to Trump’s. It...</td>\n",
       "      <td>In 2012, Kansas lawmakers, led by Gov. Sam Bro...</td>\n",
       "      <td>1</td>\n",
       "    </tr>\n",
       "    <tr>\n",
       "      <th>7</th>\n",
       "      <td>https://www.reuters.com/article/us-india-cenba...</td>\n",
       "      <td>India RBI chief: growth important, but not at ...</td>\n",
       "      <td>The Reserve Bank of India (RBI) Governor Urjit...</td>\n",
       "      <td>1</td>\n",
       "    </tr>\n",
       "    <tr>\n",
       "      <th>8</th>\n",
       "      <td>https://www.reuters.com/article/us-climatechan...</td>\n",
       "      <td>EPA chief to sign rule on Clean Power Plan exi...</td>\n",
       "      <td>Scott Pruitt, Administrator of the U.S. Enviro...</td>\n",
       "      <td>1</td>\n",
       "    </tr>\n",
       "    <tr>\n",
       "      <th>9</th>\n",
       "      <td>https://www.reuters.com/article/us-air-berlin-...</td>\n",
       "      <td>Talks on sale of Air Berlin planes to easyJet ...</td>\n",
       "      <td>FILE PHOTO - An Air Berlin sign is seen at an ...</td>\n",
       "      <td>1</td>\n",
       "    </tr>\n",
       "  </tbody>\n",
       "</table>\n",
       "</div>"
      ],
      "text/plain": [
       "                                                URLs  \\\n",
       "0  http://www.bbc.com/news/world-us-canada-414191...   \n",
       "1  https://www.reuters.com/article/us-filmfestiva...   \n",
       "2  https://www.nytimes.com/2017/10/09/us/politics...   \n",
       "3  https://www.reuters.com/article/us-mexico-oil-...   \n",
       "4  http://www.cnn.com/videos/cnnmoney/2017/10/08/...   \n",
       "5  http://beforeitsnews.com/sports/2017/09/jetnat...   \n",
       "6  https://www.nytimes.com/2017/10/10/us/politics...   \n",
       "7  https://www.reuters.com/article/us-india-cenba...   \n",
       "8  https://www.reuters.com/article/us-climatechan...   \n",
       "9  https://www.reuters.com/article/us-air-berlin-...   \n",
       "\n",
       "                                            Headline  \\\n",
       "0         Four ways Bob Corker skewered Donald Trump   \n",
       "1  Linklater's war veteran comedy speaks to moder...   \n",
       "2  Trump’s Fight With Corker Jeopardizes His Legi...   \n",
       "3  Egypt's Cheiron wins tie-up with Pemex for Mex...   \n",
       "4        Jason Aldean opens 'SNL' with Vegas tribute   \n",
       "5                   JetNation FanDuel League; Week 4   \n",
       "6  Kansas Tried a Tax Plan Similar to Trump’s. It...   \n",
       "7  India RBI chief: growth important, but not at ...   \n",
       "8  EPA chief to sign rule on Clean Power Plan exi...   \n",
       "9  Talks on sale of Air Berlin planes to easyJet ...   \n",
       "\n",
       "                                                Body  Label  \n",
       "0  Image copyright Getty Images\\nOn Sunday mornin...      1  \n",
       "1  LONDON (Reuters) - “Last Flag Flying”, a comed...      1  \n",
       "2  The feud broke into public view last week when...      1  \n",
       "3  MEXICO CITY (Reuters) - Egypt’s Cheiron Holdin...      1  \n",
       "4  Country singer Jason Aldean, who was performin...      1  \n",
       "5  JetNation FanDuel League; Week 4\\n% of readers...      0  \n",
       "6  In 2012, Kansas lawmakers, led by Gov. Sam Bro...      1  \n",
       "7  The Reserve Bank of India (RBI) Governor Urjit...      1  \n",
       "8  Scott Pruitt, Administrator of the U.S. Enviro...      1  \n",
       "9  FILE PHOTO - An Air Berlin sign is seen at an ...      1  "
      ]
     },
     "execution_count": 4,
     "metadata": {},
     "output_type": "execute_result"
    }
   ],
   "source": [
    "data.head(10)"
   ]
  },
  {
   "cell_type": "code",
   "execution_count": 5,
   "id": "bfc06c05",
   "metadata": {
    "execution": {
     "iopub.execute_input": "2025-03-07T14:45:01.287804Z",
     "iopub.status.busy": "2025-03-07T14:45:01.287458Z",
     "iopub.status.idle": "2025-03-07T14:45:01.295665Z",
     "shell.execute_reply": "2025-03-07T14:45:01.294818Z"
    },
    "papermill": {
     "duration": 0.018228,
     "end_time": "2025-03-07T14:45:01.297072",
     "exception": false,
     "start_time": "2025-03-07T14:45:01.278844",
     "status": "completed"
    },
    "tags": []
   },
   "outputs": [
    {
     "data": {
      "text/html": [
       "<div>\n",
       "<style scoped>\n",
       "    .dataframe tbody tr th:only-of-type {\n",
       "        vertical-align: middle;\n",
       "    }\n",
       "\n",
       "    .dataframe tbody tr th {\n",
       "        vertical-align: top;\n",
       "    }\n",
       "\n",
       "    .dataframe thead th {\n",
       "        text-align: right;\n",
       "    }\n",
       "</style>\n",
       "<table border=\"1\" class=\"dataframe\">\n",
       "  <thead>\n",
       "    <tr style=\"text-align: right;\">\n",
       "      <th></th>\n",
       "      <th>URLs</th>\n",
       "      <th>Headline</th>\n",
       "      <th>Body</th>\n",
       "      <th>Label</th>\n",
       "    </tr>\n",
       "  </thead>\n",
       "  <tbody>\n",
       "    <tr>\n",
       "      <th>4004</th>\n",
       "      <td>http://beforeitsnews.com/sports/2017/09/trends...</td>\n",
       "      <td>Trends to Watch</td>\n",
       "      <td>Trends to Watch\\n% of readers think this story...</td>\n",
       "      <td>0</td>\n",
       "    </tr>\n",
       "    <tr>\n",
       "      <th>4005</th>\n",
       "      <td>http://beforeitsnews.com/u-s-politics/2017/10/...</td>\n",
       "      <td>Trump Jr. Is Soon To Give A 30-Minute Speech F...</td>\n",
       "      <td>Trump Jr. Is Soon To Give A 30-Minute Speech F...</td>\n",
       "      <td>0</td>\n",
       "    </tr>\n",
       "    <tr>\n",
       "      <th>4006</th>\n",
       "      <td>https://www.activistpost.com/2017/09/ron-paul-...</td>\n",
       "      <td>Ron Paul on Trump, Anarchism &amp; the AltRight</td>\n",
       "      <td>NaN</td>\n",
       "      <td>0</td>\n",
       "    </tr>\n",
       "    <tr>\n",
       "      <th>4007</th>\n",
       "      <td>https://www.reuters.com/article/us-china-pharm...</td>\n",
       "      <td>China to accept overseas trial data in bid to ...</td>\n",
       "      <td>SHANGHAI (Reuters) - China said it plans to ac...</td>\n",
       "      <td>1</td>\n",
       "    </tr>\n",
       "    <tr>\n",
       "      <th>4008</th>\n",
       "      <td>http://beforeitsnews.com/u-s-politics/2017/10/...</td>\n",
       "      <td>Vice President Mike Pence Leaves NFL Game Beca...</td>\n",
       "      <td>Vice President Mike Pence Leaves NFL Game Beca...</td>\n",
       "      <td>0</td>\n",
       "    </tr>\n",
       "  </tbody>\n",
       "</table>\n",
       "</div>"
      ],
      "text/plain": [
       "                                                   URLs  \\\n",
       "4004  http://beforeitsnews.com/sports/2017/09/trends...   \n",
       "4005  http://beforeitsnews.com/u-s-politics/2017/10/...   \n",
       "4006  https://www.activistpost.com/2017/09/ron-paul-...   \n",
       "4007  https://www.reuters.com/article/us-china-pharm...   \n",
       "4008  http://beforeitsnews.com/u-s-politics/2017/10/...   \n",
       "\n",
       "                                               Headline  \\\n",
       "4004                                    Trends to Watch   \n",
       "4005  Trump Jr. Is Soon To Give A 30-Minute Speech F...   \n",
       "4006        Ron Paul on Trump, Anarchism & the AltRight   \n",
       "4007  China to accept overseas trial data in bid to ...   \n",
       "4008  Vice President Mike Pence Leaves NFL Game Beca...   \n",
       "\n",
       "                                                   Body  Label  \n",
       "4004  Trends to Watch\\n% of readers think this story...      0  \n",
       "4005  Trump Jr. Is Soon To Give A 30-Minute Speech F...      0  \n",
       "4006                                                NaN      0  \n",
       "4007  SHANGHAI (Reuters) - China said it plans to ac...      1  \n",
       "4008  Vice President Mike Pence Leaves NFL Game Beca...      0  "
      ]
     },
     "execution_count": 5,
     "metadata": {},
     "output_type": "execute_result"
    }
   ],
   "source": [
    "data.tail()"
   ]
  },
  {
   "cell_type": "code",
   "execution_count": 6,
   "id": "e2f8d365",
   "metadata": {
    "execution": {
     "iopub.execute_input": "2025-03-07T14:45:01.315132Z",
     "iopub.status.busy": "2025-03-07T14:45:01.314841Z",
     "iopub.status.idle": "2025-03-07T14:45:01.337726Z",
     "shell.execute_reply": "2025-03-07T14:45:01.336755Z"
    },
    "papermill": {
     "duration": 0.03372,
     "end_time": "2025-03-07T14:45:01.339361",
     "exception": false,
     "start_time": "2025-03-07T14:45:01.305641",
     "status": "completed"
    },
    "tags": []
   },
   "outputs": [
    {
     "name": "stdout",
     "output_type": "stream",
     "text": [
      "<class 'pandas.core.frame.DataFrame'>\n",
      "RangeIndex: 4009 entries, 0 to 4008\n",
      "Data columns (total 4 columns):\n",
      " #   Column    Non-Null Count  Dtype \n",
      "---  ------    --------------  ----- \n",
      " 0   URLs      4009 non-null   object\n",
      " 1   Headline  4009 non-null   object\n",
      " 2   Body      3988 non-null   object\n",
      " 3   Label     4009 non-null   int64 \n",
      "dtypes: int64(1), object(3)\n",
      "memory usage: 125.4+ KB\n"
     ]
    }
   ],
   "source": [
    "data.info()"
   ]
  },
  {
   "cell_type": "code",
   "execution_count": 7,
   "id": "4d303ec6",
   "metadata": {
    "execution": {
     "iopub.execute_input": "2025-03-07T14:45:01.357407Z",
     "iopub.status.busy": "2025-03-07T14:45:01.357144Z",
     "iopub.status.idle": "2025-03-07T14:45:01.361487Z",
     "shell.execute_reply": "2025-03-07T14:45:01.360829Z"
    },
    "papermill": {
     "duration": 0.014471,
     "end_time": "2025-03-07T14:45:01.362561",
     "exception": false,
     "start_time": "2025-03-07T14:45:01.348090",
     "status": "completed"
    },
    "tags": []
   },
   "outputs": [
    {
     "data": {
      "text/plain": [
       "(4009, 4)"
      ]
     },
     "execution_count": 7,
     "metadata": {},
     "output_type": "execute_result"
    }
   ],
   "source": [
    "data.shape"
   ]
  },
  {
   "cell_type": "code",
   "execution_count": 8,
   "id": "29c381d1",
   "metadata": {
    "execution": {
     "iopub.execute_input": "2025-03-07T14:45:01.380109Z",
     "iopub.status.busy": "2025-03-07T14:45:01.379832Z",
     "iopub.status.idle": "2025-03-07T14:45:01.386677Z",
     "shell.execute_reply": "2025-03-07T14:45:01.385917Z"
    },
    "papermill": {
     "duration": 0.017004,
     "end_time": "2025-03-07T14:45:01.388061",
     "exception": false,
     "start_time": "2025-03-07T14:45:01.371057",
     "status": "completed"
    },
    "tags": []
   },
   "outputs": [
    {
     "data": {
      "text/plain": [
       "URLs         0\n",
       "Headline     0\n",
       "Body        21\n",
       "Label        0\n",
       "dtype: int64"
      ]
     },
     "execution_count": 8,
     "metadata": {},
     "output_type": "execute_result"
    }
   ],
   "source": [
    "data.isnull().sum() "
   ]
  },
  {
   "cell_type": "markdown",
   "id": "1a073fb6",
   "metadata": {
    "papermill": {
     "duration": 0.008017,
     "end_time": "2025-03-07T14:45:01.404343",
     "exception": false,
     "start_time": "2025-03-07T14:45:01.396326",
     "status": "completed"
    },
    "tags": []
   },
   "source": [
    "## **Data Cleaning**"
   ]
  },
  {
   "cell_type": "code",
   "execution_count": 9,
   "id": "9efabf10",
   "metadata": {
    "execution": {
     "iopub.execute_input": "2025-03-07T14:45:01.421739Z",
     "iopub.status.busy": "2025-03-07T14:45:01.421468Z",
     "iopub.status.idle": "2025-03-07T14:45:01.431578Z",
     "shell.execute_reply": "2025-03-07T14:45:01.430720Z"
    },
    "papermill": {
     "duration": 0.02034,
     "end_time": "2025-03-07T14:45:01.432859",
     "exception": false,
     "start_time": "2025-03-07T14:45:01.412519",
     "status": "completed"
    },
    "tags": []
   },
   "outputs": [
    {
     "data": {
      "text/plain": [
       "URLs        0\n",
       "Headline    0\n",
       "Body        0\n",
       "Label       0\n",
       "dtype: int64"
      ]
     },
     "execution_count": 9,
     "metadata": {},
     "output_type": "execute_result"
    }
   ],
   "source": [
    "data= data.dropna() # remove null values\n",
    "data.isnull().sum()"
   ]
  },
  {
   "cell_type": "code",
   "execution_count": 10,
   "id": "b8bbdd57",
   "metadata": {
    "execution": {
     "iopub.execute_input": "2025-03-07T14:45:01.450907Z",
     "iopub.status.busy": "2025-03-07T14:45:01.450608Z",
     "iopub.status.idle": "2025-03-07T14:45:01.455066Z",
     "shell.execute_reply": "2025-03-07T14:45:01.454261Z"
    },
    "papermill": {
     "duration": 0.014935,
     "end_time": "2025-03-07T14:45:01.456397",
     "exception": false,
     "start_time": "2025-03-07T14:45:01.441462",
     "status": "completed"
    },
    "tags": []
   },
   "outputs": [
    {
     "data": {
      "text/plain": [
       "(3988, 4)"
      ]
     },
     "execution_count": 10,
     "metadata": {},
     "output_type": "execute_result"
    }
   ],
   "source": [
    "data.shape"
   ]
  },
  {
   "cell_type": "code",
   "execution_count": 11,
   "id": "1c251e01",
   "metadata": {
    "execution": {
     "iopub.execute_input": "2025-03-07T14:45:01.474317Z",
     "iopub.status.busy": "2025-03-07T14:45:01.474042Z",
     "iopub.status.idle": "2025-03-07T14:45:01.500524Z",
     "shell.execute_reply": "2025-03-07T14:45:01.499821Z"
    },
    "papermill": {
     "duration": 0.036876,
     "end_time": "2025-03-07T14:45:01.501763",
     "exception": false,
     "start_time": "2025-03-07T14:45:01.464887",
     "status": "completed"
    },
    "tags": []
   },
   "outputs": [],
   "source": [
    "# combine headline and body in text variable\n",
    "data.loc[:, 'text'] = data['Headline'].fillna('') + ' ' + data['Body'].fillna('')"
   ]
  },
  {
   "cell_type": "code",
   "execution_count": 12,
   "id": "257ad4a6",
   "metadata": {
    "execution": {
     "iopub.execute_input": "2025-03-07T14:45:01.520705Z",
     "iopub.status.busy": "2025-03-07T14:45:01.520434Z",
     "iopub.status.idle": "2025-03-07T14:45:01.526456Z",
     "shell.execute_reply": "2025-03-07T14:45:01.525642Z"
    },
    "papermill": {
     "duration": 0.016418,
     "end_time": "2025-03-07T14:45:01.527718",
     "exception": false,
     "start_time": "2025-03-07T14:45:01.511300",
     "status": "completed"
    },
    "tags": []
   },
   "outputs": [
    {
     "data": {
      "text/plain": [
       "0       Four ways Bob Corker skewered Donald Trump Ima...\n",
       "1       Linklater's war veteran comedy speaks to moder...\n",
       "2       Trump’s Fight With Corker Jeopardizes His Legi...\n",
       "3       Egypt's Cheiron wins tie-up with Pemex for Mex...\n",
       "4       Jason Aldean opens 'SNL' with Vegas tribute Co...\n",
       "                              ...                        \n",
       "4003    CNN and Globalist Exposed - Steve Quayle and A...\n",
       "4004    Trends to Watch Trends to Watch\\n% of readers ...\n",
       "4005    Trump Jr. Is Soon To Give A 30-Minute Speech F...\n",
       "4007    China to accept overseas trial data in bid to ...\n",
       "4008    Vice President Mike Pence Leaves NFL Game Beca...\n",
       "Name: text, Length: 3988, dtype: object"
      ]
     },
     "execution_count": 12,
     "metadata": {},
     "output_type": "execute_result"
    }
   ],
   "source": [
    "data['text']"
   ]
  },
  {
   "cell_type": "code",
   "execution_count": 13,
   "id": "b913d14f",
   "metadata": {
    "execution": {
     "iopub.execute_input": "2025-03-07T14:45:01.545641Z",
     "iopub.status.busy": "2025-03-07T14:45:01.545388Z",
     "iopub.status.idle": "2025-03-07T14:45:01.555104Z",
     "shell.execute_reply": "2025-03-07T14:45:01.554311Z"
    },
    "papermill": {
     "duration": 0.020108,
     "end_time": "2025-03-07T14:45:01.556424",
     "exception": false,
     "start_time": "2025-03-07T14:45:01.536316",
     "status": "completed"
    },
    "tags": []
   },
   "outputs": [
    {
     "data": {
      "text/plain": [
       "URLs        0\n",
       "Headline    0\n",
       "Body        0\n",
       "Label       0\n",
       "text        0\n",
       "dtype: int64"
      ]
     },
     "execution_count": 13,
     "metadata": {},
     "output_type": "execute_result"
    }
   ],
   "source": [
    "data.dropna()\n",
    "data.isnull().sum()"
   ]
  },
  {
   "cell_type": "code",
   "execution_count": 14,
   "id": "7872611f",
   "metadata": {
    "execution": {
     "iopub.execute_input": "2025-03-07T14:45:01.574603Z",
     "iopub.status.busy": "2025-03-07T14:45:01.574349Z",
     "iopub.status.idle": "2025-03-07T14:45:01.578738Z",
     "shell.execute_reply": "2025-03-07T14:45:01.577976Z"
    },
    "papermill": {
     "duration": 0.015,
     "end_time": "2025-03-07T14:45:01.580121",
     "exception": false,
     "start_time": "2025-03-07T14:45:01.565121",
     "status": "completed"
    },
    "tags": []
   },
   "outputs": [
    {
     "data": {
      "text/plain": [
       "(3988, 5)"
      ]
     },
     "execution_count": 14,
     "metadata": {},
     "output_type": "execute_result"
    }
   ],
   "source": [
    "data.shape"
   ]
  },
  {
   "cell_type": "code",
   "execution_count": 15,
   "id": "9288dda4",
   "metadata": {
    "execution": {
     "iopub.execute_input": "2025-03-07T14:45:01.597967Z",
     "iopub.status.busy": "2025-03-07T14:45:01.597687Z",
     "iopub.status.idle": "2025-03-07T14:45:01.607076Z",
     "shell.execute_reply": "2025-03-07T14:45:01.606408Z"
    },
    "papermill": {
     "duration": 0.019549,
     "end_time": "2025-03-07T14:45:01.608203",
     "exception": false,
     "start_time": "2025-03-07T14:45:01.588654",
     "status": "completed"
    },
    "tags": []
   },
   "outputs": [
    {
     "data": {
      "text/html": [
       "<div>\n",
       "<style scoped>\n",
       "    .dataframe tbody tr th:only-of-type {\n",
       "        vertical-align: middle;\n",
       "    }\n",
       "\n",
       "    .dataframe tbody tr th {\n",
       "        vertical-align: top;\n",
       "    }\n",
       "\n",
       "    .dataframe thead th {\n",
       "        text-align: right;\n",
       "    }\n",
       "</style>\n",
       "<table border=\"1\" class=\"dataframe\">\n",
       "  <thead>\n",
       "    <tr style=\"text-align: right;\">\n",
       "      <th></th>\n",
       "      <th>Label</th>\n",
       "      <th>text</th>\n",
       "    </tr>\n",
       "  </thead>\n",
       "  <tbody>\n",
       "    <tr>\n",
       "      <th>0</th>\n",
       "      <td>1</td>\n",
       "      <td>Four ways Bob Corker skewered Donald Trump Ima...</td>\n",
       "    </tr>\n",
       "    <tr>\n",
       "      <th>1</th>\n",
       "      <td>1</td>\n",
       "      <td>Linklater's war veteran comedy speaks to moder...</td>\n",
       "    </tr>\n",
       "    <tr>\n",
       "      <th>2</th>\n",
       "      <td>1</td>\n",
       "      <td>Trump’s Fight With Corker Jeopardizes His Legi...</td>\n",
       "    </tr>\n",
       "    <tr>\n",
       "      <th>3</th>\n",
       "      <td>1</td>\n",
       "      <td>Egypt's Cheiron wins tie-up with Pemex for Mex...</td>\n",
       "    </tr>\n",
       "    <tr>\n",
       "      <th>4</th>\n",
       "      <td>1</td>\n",
       "      <td>Jason Aldean opens 'SNL' with Vegas tribute Co...</td>\n",
       "    </tr>\n",
       "  </tbody>\n",
       "</table>\n",
       "</div>"
      ],
      "text/plain": [
       "   Label                                               text\n",
       "0      1  Four ways Bob Corker skewered Donald Trump Ima...\n",
       "1      1  Linklater's war veteran comedy speaks to moder...\n",
       "2      1  Trump’s Fight With Corker Jeopardizes His Legi...\n",
       "3      1  Egypt's Cheiron wins tie-up with Pemex for Mex...\n",
       "4      1  Jason Aldean opens 'SNL' with Vegas tribute Co..."
      ]
     },
     "execution_count": 15,
     "metadata": {},
     "output_type": "execute_result"
    }
   ],
   "source": [
    "# remove uncessary columns\n",
    "data = data.drop(columns=['Headline', 'Body', 'URLs'])\n",
    "data.head()"
   ]
  },
  {
   "cell_type": "code",
   "execution_count": 16,
   "id": "c1d65b3c",
   "metadata": {
    "execution": {
     "iopub.execute_input": "2025-03-07T14:45:01.626411Z",
     "iopub.status.busy": "2025-03-07T14:45:01.626176Z",
     "iopub.status.idle": "2025-03-07T14:45:01.629322Z",
     "shell.execute_reply": "2025-03-07T14:45:01.628699Z"
    },
    "papermill": {
     "duration": 0.013546,
     "end_time": "2025-03-07T14:45:01.630501",
     "exception": false,
     "start_time": "2025-03-07T14:45:01.616955",
     "status": "completed"
    },
    "tags": []
   },
   "outputs": [],
   "source": [
    "X = data['text']\n",
    "y = data['Label']"
   ]
  },
  {
   "cell_type": "code",
   "execution_count": 17,
   "id": "1ffaa62e",
   "metadata": {
    "execution": {
     "iopub.execute_input": "2025-03-07T14:45:01.648631Z",
     "iopub.status.busy": "2025-03-07T14:45:01.648397Z",
     "iopub.status.idle": "2025-03-07T14:45:02.791232Z",
     "shell.execute_reply": "2025-03-07T14:45:02.790522Z"
    },
    "papermill": {
     "duration": 1.153491,
     "end_time": "2025-03-07T14:45:02.792799",
     "exception": false,
     "start_time": "2025-03-07T14:45:01.639308",
     "status": "completed"
    },
    "tags": []
   },
   "outputs": [],
   "source": [
    "# Train Test Split\n",
    "from sklearn.model_selection import train_test_split"
   ]
  },
  {
   "cell_type": "code",
   "execution_count": 18,
   "id": "b98a076d",
   "metadata": {
    "execution": {
     "iopub.execute_input": "2025-03-07T14:45:02.812309Z",
     "iopub.status.busy": "2025-03-07T14:45:02.811866Z",
     "iopub.status.idle": "2025-03-07T14:45:02.818354Z",
     "shell.execute_reply": "2025-03-07T14:45:02.817486Z"
    },
    "papermill": {
     "duration": 0.017541,
     "end_time": "2025-03-07T14:45:02.819704",
     "exception": false,
     "start_time": "2025-03-07T14:45:02.802163",
     "status": "completed"
    },
    "tags": []
   },
   "outputs": [],
   "source": [
    "X_train,X_test,y_train,y_test = train_test_split(X,y,test_size=0.2,random_state=42)"
   ]
  },
  {
   "cell_type": "code",
   "execution_count": 19,
   "id": "6da0ea3f",
   "metadata": {
    "execution": {
     "iopub.execute_input": "2025-03-07T14:45:02.838660Z",
     "iopub.status.busy": "2025-03-07T14:45:02.838374Z",
     "iopub.status.idle": "2025-03-07T14:45:02.843132Z",
     "shell.execute_reply": "2025-03-07T14:45:02.842365Z"
    },
    "papermill": {
     "duration": 0.015501,
     "end_time": "2025-03-07T14:45:02.844443",
     "exception": false,
     "start_time": "2025-03-07T14:45:02.828942",
     "status": "completed"
    },
    "tags": []
   },
   "outputs": [
    {
     "name": "stdout",
     "output_type": "stream",
     "text": [
      "(3190,)\n",
      "(798,)\n",
      "(3190,)\n",
      "(798,)\n"
     ]
    }
   ],
   "source": [
    "print(X_train.shape)\n",
    "print(X_test.shape)\n",
    "print(y_train.shape)\n",
    "print(y_test.shape)\n"
   ]
  },
  {
   "cell_type": "markdown",
   "id": "8ef53368",
   "metadata": {
    "papermill": {
     "duration": 0.008462,
     "end_time": "2025-03-07T14:45:02.861910",
     "exception": false,
     "start_time": "2025-03-07T14:45:02.853448",
     "status": "completed"
    },
    "tags": []
   },
   "source": [
    "## **Text Preprocessing**"
   ]
  },
  {
   "cell_type": "code",
   "execution_count": 20,
   "id": "84f05216",
   "metadata": {
    "execution": {
     "iopub.execute_input": "2025-03-07T14:45:02.881568Z",
     "iopub.status.busy": "2025-03-07T14:45:02.881161Z",
     "iopub.status.idle": "2025-03-07T14:45:03.454458Z",
     "shell.execute_reply": "2025-03-07T14:45:03.453738Z"
    },
    "papermill": {
     "duration": 0.585593,
     "end_time": "2025-03-07T14:45:03.456122",
     "exception": false,
     "start_time": "2025-03-07T14:45:02.870529",
     "status": "completed"
    },
    "tags": []
   },
   "outputs": [],
   "source": [
    "import nltk\n",
    "from nltk.corpus import stopwords\n",
    "from nltk.tokenize import word_tokenize\n",
    "from nltk.stem import PorterStemmer, WordNetLemmatizer"
   ]
  },
  {
   "cell_type": "code",
   "execution_count": 21,
   "id": "7254736d",
   "metadata": {
    "execution": {
     "iopub.execute_input": "2025-03-07T14:45:03.475508Z",
     "iopub.status.busy": "2025-03-07T14:45:03.475201Z",
     "iopub.status.idle": "2025-03-07T14:45:03.914150Z",
     "shell.execute_reply": "2025-03-07T14:45:03.913213Z"
    },
    "papermill": {
     "duration": 0.450072,
     "end_time": "2025-03-07T14:45:03.915615",
     "exception": false,
     "start_time": "2025-03-07T14:45:03.465543",
     "status": "completed"
    },
    "tags": []
   },
   "outputs": [
    {
     "name": "stdout",
     "output_type": "stream",
     "text": [
      "Archive:  /usr/share/nltk_data/corpora/wordnet.zip\r\n",
      "   creating: /usr/share/nltk_data/corpora/wordnet/\r\n",
      "  inflating: /usr/share/nltk_data/corpora/wordnet/lexnames  \r\n",
      "  inflating: /usr/share/nltk_data/corpora/wordnet/data.verb  \r\n",
      "  inflating: /usr/share/nltk_data/corpora/wordnet/index.adv  \r\n",
      "  inflating: /usr/share/nltk_data/corpora/wordnet/adv.exc  \r\n",
      "  inflating: /usr/share/nltk_data/corpora/wordnet/index.verb  \r\n",
      "  inflating: /usr/share/nltk_data/corpora/wordnet/cntlist.rev  \r\n",
      "  inflating: /usr/share/nltk_data/corpora/wordnet/data.adj  \r\n",
      "  inflating: /usr/share/nltk_data/corpora/wordnet/index.adj  \r\n",
      "  inflating: /usr/share/nltk_data/corpora/wordnet/LICENSE  \r\n",
      "  inflating: /usr/share/nltk_data/corpora/wordnet/citation.bib  \r\n",
      "  inflating: /usr/share/nltk_data/corpora/wordnet/noun.exc  \r\n",
      "  inflating: /usr/share/nltk_data/corpora/wordnet/verb.exc  \r\n",
      "  inflating: /usr/share/nltk_data/corpora/wordnet/README  \r\n",
      "  inflating: /usr/share/nltk_data/corpora/wordnet/index.sense  \r\n",
      "  inflating: /usr/share/nltk_data/corpora/wordnet/data.noun  \r\n",
      "  inflating: /usr/share/nltk_data/corpora/wordnet/data.adv  \r\n",
      "  inflating: /usr/share/nltk_data/corpora/wordnet/index.noun  \r\n",
      "  inflating: /usr/share/nltk_data/corpora/wordnet/adj.exc  \r\n"
     ]
    }
   ],
   "source": [
    "!unzip /usr/share/nltk_data/corpora/wordnet.zip -d /usr/share/nltk_data/corpora/"
   ]
  },
  {
   "cell_type": "code",
   "execution_count": 22,
   "id": "185118bb",
   "metadata": {
    "execution": {
     "iopub.execute_input": "2025-03-07T14:45:03.935716Z",
     "iopub.status.busy": "2025-03-07T14:45:03.935427Z",
     "iopub.status.idle": "2025-03-07T14:45:04.159560Z",
     "shell.execute_reply": "2025-03-07T14:45:04.158661Z"
    },
    "papermill": {
     "duration": 0.235697,
     "end_time": "2025-03-07T14:45:04.160853",
     "exception": false,
     "start_time": "2025-03-07T14:45:03.925156",
     "status": "completed"
    },
    "tags": []
   },
   "outputs": [
    {
     "name": "stdout",
     "output_type": "stream",
     "text": [
      "[nltk_data] Downloading package stopwords to /usr/share/nltk_data...\n",
      "[nltk_data]   Unzipping corpora/stopwords.zip.\n",
      "[nltk_data] Downloading package punkt to /usr/share/nltk_data...\n",
      "[nltk_data]   Package punkt is already up-to-date!\n",
      "[nltk_data] Downloading package wordnet to /usr/share/nltk_data...\n",
      "[nltk_data]   Package wordnet is already up-to-date!\n"
     ]
    },
    {
     "data": {
      "text/plain": [
       "True"
      ]
     },
     "execution_count": 22,
     "metadata": {},
     "output_type": "execute_result"
    }
   ],
   "source": [
    "nltk.download('stopwords')\n",
    "nltk.download('punkt')\n",
    "nltk.download('wordnet') "
   ]
  },
  {
   "cell_type": "code",
   "execution_count": 23,
   "id": "6e080a6e",
   "metadata": {
    "execution": {
     "iopub.execute_input": "2025-03-07T14:45:04.180306Z",
     "iopub.status.busy": "2025-03-07T14:45:04.180011Z",
     "iopub.status.idle": "2025-03-07T14:45:04.185647Z",
     "shell.execute_reply": "2025-03-07T14:45:04.184822Z"
    },
    "papermill": {
     "duration": 0.016829,
     "end_time": "2025-03-07T14:45:04.187046",
     "exception": false,
     "start_time": "2025-03-07T14:45:04.170217",
     "status": "completed"
    },
    "tags": []
   },
   "outputs": [],
   "source": [
    "# Initialize stopwords, stemmer, and lemmatizer\n",
    "stop_words = set(stopwords.words('english'))\n",
    "stemmer = PorterStemmer()\n",
    "lemmatizer = WordNetLemmatizer()"
   ]
  },
  {
   "cell_type": "code",
   "execution_count": 24,
   "id": "0e7c826a",
   "metadata": {
    "execution": {
     "iopub.execute_input": "2025-03-07T14:45:04.206369Z",
     "iopub.status.busy": "2025-03-07T14:45:04.206131Z",
     "iopub.status.idle": "2025-03-07T14:45:04.210126Z",
     "shell.execute_reply": "2025-03-07T14:45:04.209483Z"
    },
    "papermill": {
     "duration": 0.014858,
     "end_time": "2025-03-07T14:45:04.211264",
     "exception": false,
     "start_time": "2025-03-07T14:45:04.196406",
     "status": "completed"
    },
    "tags": []
   },
   "outputs": [],
   "source": [
    "def preprocess_text(text):\n",
    "    words = word_tokenize(text.lower())\n",
    "    words = [word for word in words if word.isalnum() and word not in stop_words]\n",
    "    words = [stemmer.stem(word) for word in words]  # Stemming\n",
    "    words = [lemmatizer.lemmatize(word) for word in words]  # Lemmatization\n",
    "    return \" \".join(words)"
   ]
  },
  {
   "cell_type": "code",
   "execution_count": 25,
   "id": "cfe8878f",
   "metadata": {
    "execution": {
     "iopub.execute_input": "2025-03-07T14:45:04.231018Z",
     "iopub.status.busy": "2025-03-07T14:45:04.230692Z",
     "iopub.status.idle": "2025-03-07T14:45:39.972373Z",
     "shell.execute_reply": "2025-03-07T14:45:39.971678Z"
    },
    "papermill": {
     "duration": 35.753142,
     "end_time": "2025-03-07T14:45:39.974033",
     "exception": false,
     "start_time": "2025-03-07T14:45:04.220891",
     "status": "completed"
    },
    "tags": []
   },
   "outputs": [],
   "source": [
    "X_train = X_train.apply(preprocess_text)\n",
    "X_test = X_test.apply(preprocess_text)"
   ]
  },
  {
   "cell_type": "code",
   "execution_count": 26,
   "id": "bead6a6f",
   "metadata": {
    "execution": {
     "iopub.execute_input": "2025-03-07T14:45:39.993866Z",
     "iopub.status.busy": "2025-03-07T14:45:39.993547Z",
     "iopub.status.idle": "2025-03-07T14:45:40.000301Z",
     "shell.execute_reply": "2025-03-07T14:45:39.999372Z"
    },
    "papermill": {
     "duration": 0.017871,
     "end_time": "2025-03-07T14:45:40.001634",
     "exception": false,
     "start_time": "2025-03-07T14:45:39.983763",
     "status": "completed"
    },
    "tags": []
   },
   "outputs": [
    {
     "data": {
      "text/plain": [
       "1077    trump tell million american hurrican victim re...\n",
       "554     new york cabl provid altic acc network new yor...\n",
       "562     japan dentsu get small fine overtim breach des...\n",
       "3732    littl kid stress solv priscilla chan ceo prima...\n",
       "607     2017 fantasi footbal kicker rank week 5 warn s...\n",
       "                              ...                        \n",
       "1140    young white sox look yoan moncada other get op...\n",
       "1305    trump claim attack nfl player noth race shahza...\n",
       "865     expo field era templ cup race mo bro kiner wal...\n",
       "3527    teacher day teacher paid well valu cnn world p...\n",
       "3192    everyday talk intend enabl get know one anoth ...\n",
       "Name: text, Length: 3190, dtype: object"
      ]
     },
     "execution_count": 26,
     "metadata": {},
     "output_type": "execute_result"
    }
   ],
   "source": [
    "X_train"
   ]
  },
  {
   "cell_type": "code",
   "execution_count": 27,
   "id": "198c85e6",
   "metadata": {
    "execution": {
     "iopub.execute_input": "2025-03-07T14:45:40.021630Z",
     "iopub.status.busy": "2025-03-07T14:45:40.021390Z",
     "iopub.status.idle": "2025-03-07T14:45:40.024632Z",
     "shell.execute_reply": "2025-03-07T14:45:40.023967Z"
    },
    "papermill": {
     "duration": 0.014836,
     "end_time": "2025-03-07T14:45:40.025854",
     "exception": false,
     "start_time": "2025-03-07T14:45:40.011018",
     "status": "completed"
    },
    "tags": []
   },
   "outputs": [],
   "source": [
    "from sklearn.feature_extraction.text import TfidfVectorizer"
   ]
  },
  {
   "cell_type": "code",
   "execution_count": 28,
   "id": "bce4b313",
   "metadata": {
    "execution": {
     "iopub.execute_input": "2025-03-07T14:45:40.045473Z",
     "iopub.status.busy": "2025-03-07T14:45:40.045240Z",
     "iopub.status.idle": "2025-03-07T14:45:40.975322Z",
     "shell.execute_reply": "2025-03-07T14:45:40.974617Z"
    },
    "papermill": {
     "duration": 0.941424,
     "end_time": "2025-03-07T14:45:40.976998",
     "exception": false,
     "start_time": "2025-03-07T14:45:40.035574",
     "status": "completed"
    },
    "tags": []
   },
   "outputs": [],
   "source": [
    "vectorizer = TfidfVectorizer()\n",
    "X_train_V = vectorizer.fit_transform(X_train)\n",
    "X_test_V = vectorizer.transform(X_test)"
   ]
  },
  {
   "cell_type": "markdown",
   "id": "517e48e8",
   "metadata": {
    "papermill": {
     "duration": 0.009081,
     "end_time": "2025-03-07T14:45:40.995764",
     "exception": false,
     "start_time": "2025-03-07T14:45:40.986683",
     "status": "completed"
    },
    "tags": []
   },
   "source": [
    "## **Model Training**"
   ]
  },
  {
   "cell_type": "markdown",
   "id": "480f1d25",
   "metadata": {
    "papermill": {
     "duration": 0.009029,
     "end_time": "2025-03-07T14:45:41.015196",
     "exception": false,
     "start_time": "2025-03-07T14:45:41.006167",
     "status": "completed"
    },
    "tags": []
   },
   "source": [
    "### **Naive Bayes**"
   ]
  },
  {
   "cell_type": "code",
   "execution_count": 29,
   "id": "062dbf09",
   "metadata": {
    "execution": {
     "iopub.execute_input": "2025-03-07T14:45:41.034916Z",
     "iopub.status.busy": "2025-03-07T14:45:41.034593Z",
     "iopub.status.idle": "2025-03-07T14:45:41.044604Z",
     "shell.execute_reply": "2025-03-07T14:45:41.043967Z"
    },
    "papermill": {
     "duration": 0.021224,
     "end_time": "2025-03-07T14:45:41.045924",
     "exception": false,
     "start_time": "2025-03-07T14:45:41.024700",
     "status": "completed"
    },
    "tags": []
   },
   "outputs": [],
   "source": [
    "from sklearn.naive_bayes import MultinomialNB\n",
    "from sklearn.metrics import accuracy_score"
   ]
  },
  {
   "cell_type": "code",
   "execution_count": 30,
   "id": "48906eee",
   "metadata": {
    "execution": {
     "iopub.execute_input": "2025-03-07T14:45:41.113391Z",
     "iopub.status.busy": "2025-03-07T14:45:41.113106Z",
     "iopub.status.idle": "2025-03-07T14:45:41.126833Z",
     "shell.execute_reply": "2025-03-07T14:45:41.126162Z"
    },
    "papermill": {
     "duration": 0.072617,
     "end_time": "2025-03-07T14:45:41.128259",
     "exception": false,
     "start_time": "2025-03-07T14:45:41.055642",
     "status": "completed"
    },
    "tags": []
   },
   "outputs": [],
   "source": [
    "nb_model = MultinomialNB()\n",
    "nb_model = nb_model.fit(X_train_V, y_train)"
   ]
  },
  {
   "cell_type": "code",
   "execution_count": 31,
   "id": "d988657a",
   "metadata": {
    "execution": {
     "iopub.execute_input": "2025-03-07T14:45:41.148473Z",
     "iopub.status.busy": "2025-03-07T14:45:41.148205Z",
     "iopub.status.idle": "2025-03-07T14:45:41.152394Z",
     "shell.execute_reply": "2025-03-07T14:45:41.151798Z"
    },
    "papermill": {
     "duration": 0.015617,
     "end_time": "2025-03-07T14:45:41.153621",
     "exception": false,
     "start_time": "2025-03-07T14:45:41.138004",
     "status": "completed"
    },
    "tags": []
   },
   "outputs": [],
   "source": [
    "nb_prediction = nb_model.predict(X_test_V)"
   ]
  },
  {
   "cell_type": "code",
   "execution_count": 32,
   "id": "a26b96d2",
   "metadata": {
    "execution": {
     "iopub.execute_input": "2025-03-07T14:45:41.173257Z",
     "iopub.status.busy": "2025-03-07T14:45:41.173010Z",
     "iopub.status.idle": "2025-03-07T14:45:41.177909Z",
     "shell.execute_reply": "2025-03-07T14:45:41.177061Z"
    },
    "papermill": {
     "duration": 0.016028,
     "end_time": "2025-03-07T14:45:41.179167",
     "exception": false,
     "start_time": "2025-03-07T14:45:41.163139",
     "status": "completed"
    },
    "tags": []
   },
   "outputs": [
    {
     "name": "stdout",
     "output_type": "stream",
     "text": [
      "Naïve Bayes Accuracy: 0.9148\n"
     ]
    }
   ],
   "source": [
    "nb_accuracy = accuracy_score(y_test, nb_prediction)\n",
    "print(f'Naïve Bayes Accuracy: {nb_accuracy:.4f}')"
   ]
  },
  {
   "cell_type": "markdown",
   "id": "a50cd2ab",
   "metadata": {
    "papermill": {
     "duration": 0.009032,
     "end_time": "2025-03-07T14:45:41.197833",
     "exception": false,
     "start_time": "2025-03-07T14:45:41.188801",
     "status": "completed"
    },
    "tags": []
   },
   "source": [
    "### **Random Forest**"
   ]
  },
  {
   "cell_type": "code",
   "execution_count": 33,
   "id": "a0f33888",
   "metadata": {
    "execution": {
     "iopub.execute_input": "2025-03-07T14:45:41.217139Z",
     "iopub.status.busy": "2025-03-07T14:45:41.216873Z",
     "iopub.status.idle": "2025-03-07T14:45:41.428764Z",
     "shell.execute_reply": "2025-03-07T14:45:41.428057Z"
    },
    "papermill": {
     "duration": 0.223351,
     "end_time": "2025-03-07T14:45:41.430347",
     "exception": false,
     "start_time": "2025-03-07T14:45:41.206996",
     "status": "completed"
    },
    "tags": []
   },
   "outputs": [],
   "source": [
    "from sklearn.ensemble import RandomForestClassifier"
   ]
  },
  {
   "cell_type": "code",
   "execution_count": 34,
   "id": "9d3c1c0b",
   "metadata": {
    "execution": {
     "iopub.execute_input": "2025-03-07T14:45:41.450604Z",
     "iopub.status.busy": "2025-03-07T14:45:41.450323Z",
     "iopub.status.idle": "2025-03-07T14:45:43.316475Z",
     "shell.execute_reply": "2025-03-07T14:45:43.315801Z"
    },
    "papermill": {
     "duration": 1.878268,
     "end_time": "2025-03-07T14:45:43.318318",
     "exception": false,
     "start_time": "2025-03-07T14:45:41.440050",
     "status": "completed"
    },
    "tags": []
   },
   "outputs": [],
   "source": [
    "rf_model = RandomForestClassifier(n_estimators=100, random_state=42)\n",
    "rf_model = rf_model.fit(X_train_V, y_train)"
   ]
  },
  {
   "cell_type": "code",
   "execution_count": 35,
   "id": "a10b2d88",
   "metadata": {
    "execution": {
     "iopub.execute_input": "2025-03-07T14:45:43.338684Z",
     "iopub.status.busy": "2025-03-07T14:45:43.338417Z",
     "iopub.status.idle": "2025-03-07T14:45:43.395457Z",
     "shell.execute_reply": "2025-03-07T14:45:43.394787Z"
    },
    "papermill": {
     "duration": 0.068686,
     "end_time": "2025-03-07T14:45:43.396964",
     "exception": false,
     "start_time": "2025-03-07T14:45:43.328278",
     "status": "completed"
    },
    "tags": []
   },
   "outputs": [],
   "source": [
    "rf_prediction = rf_model.predict(X_test_V)"
   ]
  },
  {
   "cell_type": "code",
   "execution_count": 36,
   "id": "4f8dec02",
   "metadata": {
    "execution": {
     "iopub.execute_input": "2025-03-07T14:45:43.417061Z",
     "iopub.status.busy": "2025-03-07T14:45:43.416766Z",
     "iopub.status.idle": "2025-03-07T14:45:43.422199Z",
     "shell.execute_reply": "2025-03-07T14:45:43.421332Z"
    },
    "papermill": {
     "duration": 0.016856,
     "end_time": "2025-03-07T14:45:43.423457",
     "exception": false,
     "start_time": "2025-03-07T14:45:43.406601",
     "status": "completed"
    },
    "tags": []
   },
   "outputs": [
    {
     "name": "stdout",
     "output_type": "stream",
     "text": [
      "Random Forest Accuracy: 0.9674\n"
     ]
    }
   ],
   "source": [
    "rf_accuracy = accuracy_score(y_test, rf_prediction)\n",
    "print(f'Random Forest Accuracy: {rf_accuracy:.4f}')"
   ]
  },
  {
   "cell_type": "markdown",
   "id": "828ac2cf",
   "metadata": {
    "papermill": {
     "duration": 0.009117,
     "end_time": "2025-03-07T14:45:43.442104",
     "exception": false,
     "start_time": "2025-03-07T14:45:43.432987",
     "status": "completed"
    },
    "tags": []
   },
   "source": [
    "### **LSTM**"
   ]
  },
  {
   "cell_type": "code",
   "execution_count": 37,
   "id": "723e2388",
   "metadata": {
    "execution": {
     "iopub.execute_input": "2025-03-07T14:45:43.461695Z",
     "iopub.status.busy": "2025-03-07T14:45:43.461402Z",
     "iopub.status.idle": "2025-03-07T14:45:54.899838Z",
     "shell.execute_reply": "2025-03-07T14:45:54.898880Z"
    },
    "papermill": {
     "duration": 11.45012,
     "end_time": "2025-03-07T14:45:54.901510",
     "exception": false,
     "start_time": "2025-03-07T14:45:43.451390",
     "status": "completed"
    },
    "tags": []
   },
   "outputs": [],
   "source": [
    "from tensorflow.keras.models import Sequential\n",
    "from tensorflow.keras.layers import Embedding, LSTM, Dense, SpatialDropout1D\n",
    "from tensorflow.keras.preprocessing.text import Tokenizer\n",
    "from tensorflow.keras.preprocessing.sequence import pad_sequences"
   ]
  },
  {
   "cell_type": "code",
   "execution_count": 38,
   "id": "099d4fa5",
   "metadata": {
    "execution": {
     "iopub.execute_input": "2025-03-07T14:45:54.922699Z",
     "iopub.status.busy": "2025-03-07T14:45:54.922135Z",
     "iopub.status.idle": "2025-03-07T14:45:55.972291Z",
     "shell.execute_reply": "2025-03-07T14:45:55.971302Z"
    },
    "papermill": {
     "duration": 1.062538,
     "end_time": "2025-03-07T14:45:55.974075",
     "exception": false,
     "start_time": "2025-03-07T14:45:54.911537",
     "status": "completed"
    },
    "tags": []
   },
   "outputs": [],
   "source": [
    "tokenizer = Tokenizer(num_words=500)\n",
    "tokenizer.fit_on_texts(X_train)\n",
    "X_train_seq = tokenizer.texts_to_sequences(X_train)\n",
    "X_test_seq = tokenizer.texts_to_sequences(X_test)"
   ]
  },
  {
   "cell_type": "code",
   "execution_count": 39,
   "id": "668695ba",
   "metadata": {
    "execution": {
     "iopub.execute_input": "2025-03-07T14:45:55.995103Z",
     "iopub.status.busy": "2025-03-07T14:45:55.994774Z",
     "iopub.status.idle": "2025-03-07T14:45:55.999133Z",
     "shell.execute_reply": "2025-03-07T14:45:55.998269Z"
    },
    "papermill": {
     "duration": 0.016528,
     "end_time": "2025-03-07T14:45:56.000729",
     "exception": false,
     "start_time": "2025-03-07T14:45:55.984201",
     "status": "completed"
    },
    "tags": []
   },
   "outputs": [],
   "source": [
    "max_length = max(len(seq) for seq in X_train_seq)"
   ]
  },
  {
   "cell_type": "code",
   "execution_count": 40,
   "id": "01a5a5a5",
   "metadata": {
    "execution": {
     "iopub.execute_input": "2025-03-07T14:45:56.027250Z",
     "iopub.status.busy": "2025-03-07T14:45:56.026887Z",
     "iopub.status.idle": "2025-03-07T14:45:56.081968Z",
     "shell.execute_reply": "2025-03-07T14:45:56.081087Z"
    },
    "papermill": {
     "duration": 0.067436,
     "end_time": "2025-03-07T14:45:56.083816",
     "exception": false,
     "start_time": "2025-03-07T14:45:56.016380",
     "status": "completed"
    },
    "tags": []
   },
   "outputs": [],
   "source": [
    "X_train_pad = pad_sequences(X_train_seq,maxlen= max_length, padding= 'post')\n",
    "X_test_pad = pad_sequences(X_test_seq, maxlen= max_length, padding= 'post')"
   ]
  },
  {
   "cell_type": "code",
   "execution_count": 41,
   "id": "d177084b",
   "metadata": {
    "execution": {
     "iopub.execute_input": "2025-03-07T14:45:56.112130Z",
     "iopub.status.busy": "2025-03-07T14:45:56.111721Z",
     "iopub.status.idle": "2025-03-07T14:45:56.115974Z",
     "shell.execute_reply": "2025-03-07T14:45:56.115141Z"
    },
    "papermill": {
     "duration": 0.016231,
     "end_time": "2025-03-07T14:45:56.117315",
     "exception": false,
     "start_time": "2025-03-07T14:45:56.101084",
     "status": "completed"
    },
    "tags": []
   },
   "outputs": [],
   "source": [
    "y_train_np = np.array(y_train)\n",
    "y_test_np = np.array(y_test)"
   ]
  },
  {
   "cell_type": "code",
   "execution_count": 42,
   "id": "1dbe2ff6",
   "metadata": {
    "execution": {
     "iopub.execute_input": "2025-03-07T14:45:56.137424Z",
     "iopub.status.busy": "2025-03-07T14:45:56.137127Z",
     "iopub.status.idle": "2025-03-07T14:45:56.974271Z",
     "shell.execute_reply": "2025-03-07T14:45:56.973556Z"
    },
    "papermill": {
     "duration": 0.8488,
     "end_time": "2025-03-07T14:45:56.975693",
     "exception": false,
     "start_time": "2025-03-07T14:45:56.126893",
     "status": "completed"
    },
    "tags": []
   },
   "outputs": [],
   "source": [
    "lstm_model = Sequential([\n",
    "    Embedding(input_dim=5000, output_dim= 128),\n",
    "    SpatialDropout1D(0.2),\n",
    "    LSTM(100, dropout=0.2, recurrent_dropout=0.2),\n",
    "    Dense(1,activation='sigmoid')\n",
    "])"
   ]
  },
  {
   "cell_type": "code",
   "execution_count": 43,
   "id": "be8f4e3f",
   "metadata": {
    "execution": {
     "iopub.execute_input": "2025-03-07T14:45:56.996525Z",
     "iopub.status.busy": "2025-03-07T14:45:56.996248Z",
     "iopub.status.idle": "2025-03-07T14:50:06.266076Z",
     "shell.execute_reply": "2025-03-07T14:50:06.265158Z"
    },
    "papermill": {
     "duration": 249.281709,
     "end_time": "2025-03-07T14:50:06.267321",
     "exception": false,
     "start_time": "2025-03-07T14:45:56.985612",
     "status": "completed"
    },
    "tags": []
   },
   "outputs": [
    {
     "name": "stdout",
     "output_type": "stream",
     "text": [
      "Epoch 1/5\n",
      "\u001b[1m25/25\u001b[0m \u001b[32m━━━━━━━━━━━━━━━━━━━━\u001b[0m\u001b[37m\u001b[0m \u001b[1m55s\u001b[0m 2s/step - accuracy: 0.5012 - loss: 0.6946 - val_accuracy: 0.5639 - val_loss: 0.6861\n",
      "Epoch 2/5\n",
      "\u001b[1m25/25\u001b[0m \u001b[32m━━━━━━━━━━━━━━━━━━━━\u001b[0m\u001b[37m\u001b[0m \u001b[1m48s\u001b[0m 2s/step - accuracy: 0.5430 - loss: 0.6908 - val_accuracy: 0.5639 - val_loss: 0.6928\n",
      "Epoch 3/5\n",
      "\u001b[1m25/25\u001b[0m \u001b[32m━━━━━━━━━━━━━━━━━━━━\u001b[0m\u001b[37m\u001b[0m \u001b[1m48s\u001b[0m 2s/step - accuracy: 0.4974 - loss: 0.6931 - val_accuracy: 0.5639 - val_loss: 0.6868\n",
      "Epoch 4/5\n",
      "\u001b[1m25/25\u001b[0m \u001b[32m━━━━━━━━━━━━━━━━━━━━\u001b[0m\u001b[37m\u001b[0m \u001b[1m48s\u001b[0m 2s/step - accuracy: 0.5287 - loss: 0.6920 - val_accuracy: 0.5639 - val_loss: 0.6929\n",
      "Epoch 5/5\n",
      "\u001b[1m25/25\u001b[0m \u001b[32m━━━━━━━━━━━━━━━━━━━━\u001b[0m\u001b[37m\u001b[0m \u001b[1m49s\u001b[0m 2s/step - accuracy: 0.5294 - loss: 0.6927 - val_accuracy: 0.5639 - val_loss: 0.6884\n"
     ]
    },
    {
     "data": {
      "text/plain": [
       "<keras.src.callbacks.history.History at 0x7e1e1f3ca350>"
      ]
     },
     "execution_count": 43,
     "metadata": {},
     "output_type": "execute_result"
    }
   ],
   "source": [
    "lstm_model.compile(loss='binary_crossentropy', optimizer='adam', metrics=['accuracy'])\n",
    "lstm_model.fit(X_train_pad, y_train_np, epochs=5, batch_size=128, validation_data=(X_test_pad,y_test_np))"
   ]
  },
  {
   "cell_type": "code",
   "execution_count": 44,
   "id": "711b140f",
   "metadata": {
    "execution": {
     "iopub.execute_input": "2025-03-07T14:50:06.300054Z",
     "iopub.status.busy": "2025-03-07T14:50:06.299722Z",
     "iopub.status.idle": "2025-03-07T14:50:17.467582Z",
     "shell.execute_reply": "2025-03-07T14:50:17.466725Z"
    },
    "papermill": {
     "duration": 11.18558,
     "end_time": "2025-03-07T14:50:17.469203",
     "exception": false,
     "start_time": "2025-03-07T14:50:06.283623",
     "status": "completed"
    },
    "tags": []
   },
   "outputs": [
    {
     "name": "stdout",
     "output_type": "stream",
     "text": [
      "LSTM Accuracy: 0.5639\n"
     ]
    }
   ],
   "source": [
    "lstm_loss, lstm_accuracy = lstm_model.evaluate(X_test_pad, y_test_np, verbose=0)\n",
    "print(f'LSTM Accuracy: {lstm_accuracy:.4f}')"
   ]
  },
  {
   "cell_type": "markdown",
   "id": "8d5ff693",
   "metadata": {
    "papermill": {
     "duration": 0.015193,
     "end_time": "2025-03-07T14:50:17.501054",
     "exception": false,
     "start_time": "2025-03-07T14:50:17.485861",
     "status": "completed"
    },
    "tags": []
   },
   "source": [
    "### **Accuracy**"
   ]
  },
  {
   "cell_type": "code",
   "execution_count": 45,
   "id": "16c7295b",
   "metadata": {
    "execution": {
     "iopub.execute_input": "2025-03-07T14:50:17.533232Z",
     "iopub.status.busy": "2025-03-07T14:50:17.532941Z",
     "iopub.status.idle": "2025-03-07T14:50:17.538899Z",
     "shell.execute_reply": "2025-03-07T14:50:17.537982Z"
    },
    "papermill": {
     "duration": 0.023578,
     "end_time": "2025-03-07T14:50:17.540141",
     "exception": false,
     "start_time": "2025-03-07T14:50:17.516563",
     "status": "completed"
    },
    "tags": []
   },
   "outputs": [
    {
     "name": "stdout",
     "output_type": "stream",
     "text": [
      "\n",
      " Model Accuracies:\n",
      "Random Forest: 0.9674\n",
      "Naïve Bayes: 0.9148\n",
      "LSTM: 0.5639\n"
     ]
    }
   ],
   "source": [
    "def sort_model_accuracies(model_accuracies):\n",
    "    sorted_accuracies = sorted(model_accuracies.items(), key=lambda x: x[1], reverse=True)\n",
    "    print(\"\\n Model Accuracies:\")\n",
    "    for model, accuracy in sorted_accuracies:\n",
    "        print(f\"{model}: {accuracy:.4f}\")\n",
    "\n",
    "model_accuracies = {\n",
    "    'Naïve Bayes': nb_accuracy,\n",
    "    'Random Forest': rf_accuracy,\n",
    "    'LSTM': lstm_accuracy\n",
    "}\n",
    "\n",
    "sort_model_accuracies(model_accuracies)"
   ]
  },
  {
   "cell_type": "code",
   "execution_count": 46,
   "id": "1dc027a3",
   "metadata": {
    "execution": {
     "iopub.execute_input": "2025-03-07T14:50:17.572209Z",
     "iopub.status.busy": "2025-03-07T14:50:17.571930Z",
     "iopub.status.idle": "2025-03-07T14:50:17.575050Z",
     "shell.execute_reply": "2025-03-07T14:50:17.574417Z"
    },
    "papermill": {
     "duration": 0.02042,
     "end_time": "2025-03-07T14:50:17.576269",
     "exception": false,
     "start_time": "2025-03-07T14:50:17.555849",
     "status": "completed"
    },
    "tags": []
   },
   "outputs": [],
   "source": [
    "# save random forest model\n",
    "import pickle\n",
    "import joblib"
   ]
  },
  {
   "cell_type": "code",
   "execution_count": 47,
   "id": "04402762",
   "metadata": {
    "execution": {
     "iopub.execute_input": "2025-03-07T14:50:17.609301Z",
     "iopub.status.busy": "2025-03-07T14:50:17.609049Z",
     "iopub.status.idle": "2025-03-07T14:50:17.657241Z",
     "shell.execute_reply": "2025-03-07T14:50:17.656404Z"
    },
    "papermill": {
     "duration": 0.065504,
     "end_time": "2025-03-07T14:50:17.658585",
     "exception": false,
     "start_time": "2025-03-07T14:50:17.593081",
     "status": "completed"
    },
    "tags": []
   },
   "outputs": [
    {
     "data": {
      "text/plain": [
       "['rf_model.pkl']"
      ]
     },
     "execution_count": 47,
     "metadata": {},
     "output_type": "execute_result"
    }
   ],
   "source": [
    "joblib.dump(rf_model, 'rf_model.pkl')"
   ]
  }
 ],
 "metadata": {
  "kaggle": {
   "accelerator": "gpu",
   "dataSources": [
    {
     "datasetId": 6410,
     "sourceId": 9356,
     "sourceType": "datasetVersion"
    }
   ],
   "dockerImageVersionId": 30918,
   "isGpuEnabled": true,
   "isInternetEnabled": true,
   "language": "python",
   "sourceType": "notebook"
  },
  "kernelspec": {
   "display_name": "Python 3",
   "language": "python",
   "name": "python3"
  },
  "language_info": {
   "codemirror_mode": {
    "name": "ipython",
    "version": 3
   },
   "file_extension": ".py",
   "mimetype": "text/x-python",
   "name": "python",
   "nbconvert_exporter": "python",
   "pygments_lexer": "ipython3",
   "version": "3.10.12"
  },
  "papermill": {
   "default_parameters": {},
   "duration": 322.942719,
   "end_time": "2025-03-07T14:50:20.369521",
   "environment_variables": {},
   "exception": null,
   "input_path": "__notebook__.ipynb",
   "output_path": "__notebook__.ipynb",
   "parameters": {},
   "start_time": "2025-03-07T14:44:57.426802",
   "version": "2.6.0"
  }
 },
 "nbformat": 4,
 "nbformat_minor": 5
}
