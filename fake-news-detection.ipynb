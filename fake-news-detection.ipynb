{
 "cells": [
  {
   "cell_type": "markdown",
   "id": "4de7c72c",
   "metadata": {
    "papermill": {
     "duration": 0.008465,
     "end_time": "2025-03-07T14:54:32.194004",
     "exception": false,
     "start_time": "2025-03-07T14:54:32.185539",
     "status": "completed"
    },
    "tags": []
   },
   "source": [
    "# **Fake News Detection**"
   ]
  },
  {
   "cell_type": "code",
   "execution_count": 1,
   "id": "5da1904b",
   "metadata": {
    "_cell_guid": "b1076dfc-b9ad-4769-8c92-a6c4dae69d19",
    "_uuid": "8f2839f25d086af736a60e9eeb907d3b93b6e0e5",
    "execution": {
     "iopub.execute_input": "2025-03-07T14:54:32.210731Z",
     "iopub.status.busy": "2025-03-07T14:54:32.210338Z",
     "iopub.status.idle": "2025-03-07T14:54:32.230091Z",
     "shell.execute_reply": "2025-03-07T14:54:32.229194Z"
    },
    "papermill": {
     "duration": 0.029675,
     "end_time": "2025-03-07T14:54:32.231456",
     "exception": false,
     "start_time": "2025-03-07T14:54:32.201781",
     "status": "completed"
    },
    "tags": []
   },
   "outputs": [
    {
     "name": "stdout",
     "output_type": "stream",
     "text": [
      "/kaggle/input/fake-news-detection/data.h5\n",
      "/kaggle/input/fake-news-detection/data.csv\n"
     ]
    }
   ],
   "source": [
    "# Import Data\n",
    "import os\n",
    "for dirname, _, filenames in os.walk('/kaggle/input'):\n",
    "    for filename in filenames:\n",
    "        print(os.path.join(dirname, filename))"
   ]
  },
  {
   "cell_type": "markdown",
   "id": "01f40482",
   "metadata": {
    "papermill": {
     "duration": 0.008249,
     "end_time": "2025-03-07T14:54:32.247444",
     "exception": false,
     "start_time": "2025-03-07T14:54:32.239195",
     "status": "completed"
    },
    "tags": []
   },
   "source": [
    "## **Data Exploration**"
   ]
  },
  {
   "cell_type": "code",
   "execution_count": 2,
   "id": "2861654b",
   "metadata": {
    "execution": {
     "iopub.execute_input": "2025-03-07T14:54:32.263739Z",
     "iopub.status.busy": "2025-03-07T14:54:32.263436Z",
     "iopub.status.idle": "2025-03-07T14:54:32.978478Z",
     "shell.execute_reply": "2025-03-07T14:54:32.977702Z"
    },
    "papermill": {
     "duration": 0.724793,
     "end_time": "2025-03-07T14:54:32.980046",
     "exception": false,
     "start_time": "2025-03-07T14:54:32.255253",
     "status": "completed"
    },
    "tags": []
   },
   "outputs": [],
   "source": [
    "import pandas as pd\n",
    "import numpy as np"
   ]
  },
  {
   "cell_type": "code",
   "execution_count": 3,
   "id": "0d05da9a",
   "metadata": {
    "execution": {
     "iopub.execute_input": "2025-03-07T14:54:32.996664Z",
     "iopub.status.busy": "2025-03-07T14:54:32.996307Z",
     "iopub.status.idle": "2025-03-07T14:54:33.316245Z",
     "shell.execute_reply": "2025-03-07T14:54:33.315457Z"
    },
    "papermill": {
     "duration": 0.329871,
     "end_time": "2025-03-07T14:54:33.317905",
     "exception": false,
     "start_time": "2025-03-07T14:54:32.988034",
     "status": "completed"
    },
    "tags": []
   },
   "outputs": [],
   "source": [
    "data = pd.read_csv('/kaggle/input/fake-news-detection/data.csv')"
   ]
  },
  {
   "cell_type": "code",
   "execution_count": 4,
   "id": "be033170",
   "metadata": {
    "execution": {
     "iopub.execute_input": "2025-03-07T14:54:33.335186Z",
     "iopub.status.busy": "2025-03-07T14:54:33.334910Z",
     "iopub.status.idle": "2025-03-07T14:54:33.357796Z",
     "shell.execute_reply": "2025-03-07T14:54:33.356879Z"
    },
    "papermill": {
     "duration": 0.032845,
     "end_time": "2025-03-07T14:54:33.359631",
     "exception": false,
     "start_time": "2025-03-07T14:54:33.326786",
     "status": "completed"
    },
    "tags": []
   },
   "outputs": [
    {
     "data": {
      "text/html": [
       "<div>\n",
       "<style scoped>\n",
       "    .dataframe tbody tr th:only-of-type {\n",
       "        vertical-align: middle;\n",
       "    }\n",
       "\n",
       "    .dataframe tbody tr th {\n",
       "        vertical-align: top;\n",
       "    }\n",
       "\n",
       "    .dataframe thead th {\n",
       "        text-align: right;\n",
       "    }\n",
       "</style>\n",
       "<table border=\"1\" class=\"dataframe\">\n",
       "  <thead>\n",
       "    <tr style=\"text-align: right;\">\n",
       "      <th></th>\n",
       "      <th>URLs</th>\n",
       "      <th>Headline</th>\n",
       "      <th>Body</th>\n",
       "      <th>Label</th>\n",
       "    </tr>\n",
       "  </thead>\n",
       "  <tbody>\n",
       "    <tr>\n",
       "      <th>0</th>\n",
       "      <td>http://www.bbc.com/news/world-us-canada-414191...</td>\n",
       "      <td>Four ways Bob Corker skewered Donald Trump</td>\n",
       "      <td>Image copyright Getty Images\\nOn Sunday mornin...</td>\n",
       "      <td>1</td>\n",
       "    </tr>\n",
       "    <tr>\n",
       "      <th>1</th>\n",
       "      <td>https://www.reuters.com/article/us-filmfestiva...</td>\n",
       "      <td>Linklater's war veteran comedy speaks to moder...</td>\n",
       "      <td>LONDON (Reuters) - “Last Flag Flying”, a comed...</td>\n",
       "      <td>1</td>\n",
       "    </tr>\n",
       "    <tr>\n",
       "      <th>2</th>\n",
       "      <td>https://www.nytimes.com/2017/10/09/us/politics...</td>\n",
       "      <td>Trump’s Fight With Corker Jeopardizes His Legi...</td>\n",
       "      <td>The feud broke into public view last week when...</td>\n",
       "      <td>1</td>\n",
       "    </tr>\n",
       "    <tr>\n",
       "      <th>3</th>\n",
       "      <td>https://www.reuters.com/article/us-mexico-oil-...</td>\n",
       "      <td>Egypt's Cheiron wins tie-up with Pemex for Mex...</td>\n",
       "      <td>MEXICO CITY (Reuters) - Egypt’s Cheiron Holdin...</td>\n",
       "      <td>1</td>\n",
       "    </tr>\n",
       "    <tr>\n",
       "      <th>4</th>\n",
       "      <td>http://www.cnn.com/videos/cnnmoney/2017/10/08/...</td>\n",
       "      <td>Jason Aldean opens 'SNL' with Vegas tribute</td>\n",
       "      <td>Country singer Jason Aldean, who was performin...</td>\n",
       "      <td>1</td>\n",
       "    </tr>\n",
       "    <tr>\n",
       "      <th>5</th>\n",
       "      <td>http://beforeitsnews.com/sports/2017/09/jetnat...</td>\n",
       "      <td>JetNation FanDuel League; Week 4</td>\n",
       "      <td>JetNation FanDuel League; Week 4\\n% of readers...</td>\n",
       "      <td>0</td>\n",
       "    </tr>\n",
       "    <tr>\n",
       "      <th>6</th>\n",
       "      <td>https://www.nytimes.com/2017/10/10/us/politics...</td>\n",
       "      <td>Kansas Tried a Tax Plan Similar to Trump’s. It...</td>\n",
       "      <td>In 2012, Kansas lawmakers, led by Gov. Sam Bro...</td>\n",
       "      <td>1</td>\n",
       "    </tr>\n",
       "    <tr>\n",
       "      <th>7</th>\n",
       "      <td>https://www.reuters.com/article/us-india-cenba...</td>\n",
       "      <td>India RBI chief: growth important, but not at ...</td>\n",
       "      <td>The Reserve Bank of India (RBI) Governor Urjit...</td>\n",
       "      <td>1</td>\n",
       "    </tr>\n",
       "    <tr>\n",
       "      <th>8</th>\n",
       "      <td>https://www.reuters.com/article/us-climatechan...</td>\n",
       "      <td>EPA chief to sign rule on Clean Power Plan exi...</td>\n",
       "      <td>Scott Pruitt, Administrator of the U.S. Enviro...</td>\n",
       "      <td>1</td>\n",
       "    </tr>\n",
       "    <tr>\n",
       "      <th>9</th>\n",
       "      <td>https://www.reuters.com/article/us-air-berlin-...</td>\n",
       "      <td>Talks on sale of Air Berlin planes to easyJet ...</td>\n",
       "      <td>FILE PHOTO - An Air Berlin sign is seen at an ...</td>\n",
       "      <td>1</td>\n",
       "    </tr>\n",
       "  </tbody>\n",
       "</table>\n",
       "</div>"
      ],
      "text/plain": [
       "                                                URLs  \\\n",
       "0  http://www.bbc.com/news/world-us-canada-414191...   \n",
       "1  https://www.reuters.com/article/us-filmfestiva...   \n",
       "2  https://www.nytimes.com/2017/10/09/us/politics...   \n",
       "3  https://www.reuters.com/article/us-mexico-oil-...   \n",
       "4  http://www.cnn.com/videos/cnnmoney/2017/10/08/...   \n",
       "5  http://beforeitsnews.com/sports/2017/09/jetnat...   \n",
       "6  https://www.nytimes.com/2017/10/10/us/politics...   \n",
       "7  https://www.reuters.com/article/us-india-cenba...   \n",
       "8  https://www.reuters.com/article/us-climatechan...   \n",
       "9  https://www.reuters.com/article/us-air-berlin-...   \n",
       "\n",
       "                                            Headline  \\\n",
       "0         Four ways Bob Corker skewered Donald Trump   \n",
       "1  Linklater's war veteran comedy speaks to moder...   \n",
       "2  Trump’s Fight With Corker Jeopardizes His Legi...   \n",
       "3  Egypt's Cheiron wins tie-up with Pemex for Mex...   \n",
       "4        Jason Aldean opens 'SNL' with Vegas tribute   \n",
       "5                   JetNation FanDuel League; Week 4   \n",
       "6  Kansas Tried a Tax Plan Similar to Trump’s. It...   \n",
       "7  India RBI chief: growth important, but not at ...   \n",
       "8  EPA chief to sign rule on Clean Power Plan exi...   \n",
       "9  Talks on sale of Air Berlin planes to easyJet ...   \n",
       "\n",
       "                                                Body  Label  \n",
       "0  Image copyright Getty Images\\nOn Sunday mornin...      1  \n",
       "1  LONDON (Reuters) - “Last Flag Flying”, a comed...      1  \n",
       "2  The feud broke into public view last week when...      1  \n",
       "3  MEXICO CITY (Reuters) - Egypt’s Cheiron Holdin...      1  \n",
       "4  Country singer Jason Aldean, who was performin...      1  \n",
       "5  JetNation FanDuel League; Week 4\\n% of readers...      0  \n",
       "6  In 2012, Kansas lawmakers, led by Gov. Sam Bro...      1  \n",
       "7  The Reserve Bank of India (RBI) Governor Urjit...      1  \n",
       "8  Scott Pruitt, Administrator of the U.S. Enviro...      1  \n",
       "9  FILE PHOTO - An Air Berlin sign is seen at an ...      1  "
      ]
     },
     "execution_count": 4,
     "metadata": {},
     "output_type": "execute_result"
    }
   ],
   "source": [
    "data.head(10)"
   ]
  },
  {
   "cell_type": "code",
   "execution_count": 5,
   "id": "019dd8a4",
   "metadata": {
    "execution": {
     "iopub.execute_input": "2025-03-07T14:54:33.380930Z",
     "iopub.status.busy": "2025-03-07T14:54:33.380696Z",
     "iopub.status.idle": "2025-03-07T14:54:33.388552Z",
     "shell.execute_reply": "2025-03-07T14:54:33.387791Z"
    },
    "papermill": {
     "duration": 0.019672,
     "end_time": "2025-03-07T14:54:33.389750",
     "exception": false,
     "start_time": "2025-03-07T14:54:33.370078",
     "status": "completed"
    },
    "tags": []
   },
   "outputs": [
    {
     "data": {
      "text/html": [
       "<div>\n",
       "<style scoped>\n",
       "    .dataframe tbody tr th:only-of-type {\n",
       "        vertical-align: middle;\n",
       "    }\n",
       "\n",
       "    .dataframe tbody tr th {\n",
       "        vertical-align: top;\n",
       "    }\n",
       "\n",
       "    .dataframe thead th {\n",
       "        text-align: right;\n",
       "    }\n",
       "</style>\n",
       "<table border=\"1\" class=\"dataframe\">\n",
       "  <thead>\n",
       "    <tr style=\"text-align: right;\">\n",
       "      <th></th>\n",
       "      <th>URLs</th>\n",
       "      <th>Headline</th>\n",
       "      <th>Body</th>\n",
       "      <th>Label</th>\n",
       "    </tr>\n",
       "  </thead>\n",
       "  <tbody>\n",
       "    <tr>\n",
       "      <th>4004</th>\n",
       "      <td>http://beforeitsnews.com/sports/2017/09/trends...</td>\n",
       "      <td>Trends to Watch</td>\n",
       "      <td>Trends to Watch\\n% of readers think this story...</td>\n",
       "      <td>0</td>\n",
       "    </tr>\n",
       "    <tr>\n",
       "      <th>4005</th>\n",
       "      <td>http://beforeitsnews.com/u-s-politics/2017/10/...</td>\n",
       "      <td>Trump Jr. Is Soon To Give A 30-Minute Speech F...</td>\n",
       "      <td>Trump Jr. Is Soon To Give A 30-Minute Speech F...</td>\n",
       "      <td>0</td>\n",
       "    </tr>\n",
       "    <tr>\n",
       "      <th>4006</th>\n",
       "      <td>https://www.activistpost.com/2017/09/ron-paul-...</td>\n",
       "      <td>Ron Paul on Trump, Anarchism &amp; the AltRight</td>\n",
       "      <td>NaN</td>\n",
       "      <td>0</td>\n",
       "    </tr>\n",
       "    <tr>\n",
       "      <th>4007</th>\n",
       "      <td>https://www.reuters.com/article/us-china-pharm...</td>\n",
       "      <td>China to accept overseas trial data in bid to ...</td>\n",
       "      <td>SHANGHAI (Reuters) - China said it plans to ac...</td>\n",
       "      <td>1</td>\n",
       "    </tr>\n",
       "    <tr>\n",
       "      <th>4008</th>\n",
       "      <td>http://beforeitsnews.com/u-s-politics/2017/10/...</td>\n",
       "      <td>Vice President Mike Pence Leaves NFL Game Beca...</td>\n",
       "      <td>Vice President Mike Pence Leaves NFL Game Beca...</td>\n",
       "      <td>0</td>\n",
       "    </tr>\n",
       "  </tbody>\n",
       "</table>\n",
       "</div>"
      ],
      "text/plain": [
       "                                                   URLs  \\\n",
       "4004  http://beforeitsnews.com/sports/2017/09/trends...   \n",
       "4005  http://beforeitsnews.com/u-s-politics/2017/10/...   \n",
       "4006  https://www.activistpost.com/2017/09/ron-paul-...   \n",
       "4007  https://www.reuters.com/article/us-china-pharm...   \n",
       "4008  http://beforeitsnews.com/u-s-politics/2017/10/...   \n",
       "\n",
       "                                               Headline  \\\n",
       "4004                                    Trends to Watch   \n",
       "4005  Trump Jr. Is Soon To Give A 30-Minute Speech F...   \n",
       "4006        Ron Paul on Trump, Anarchism & the AltRight   \n",
       "4007  China to accept overseas trial data in bid to ...   \n",
       "4008  Vice President Mike Pence Leaves NFL Game Beca...   \n",
       "\n",
       "                                                   Body  Label  \n",
       "4004  Trends to Watch\\n% of readers think this story...      0  \n",
       "4005  Trump Jr. Is Soon To Give A 30-Minute Speech F...      0  \n",
       "4006                                                NaN      0  \n",
       "4007  SHANGHAI (Reuters) - China said it plans to ac...      1  \n",
       "4008  Vice President Mike Pence Leaves NFL Game Beca...      0  "
      ]
     },
     "execution_count": 5,
     "metadata": {},
     "output_type": "execute_result"
    }
   ],
   "source": [
    "data.tail()"
   ]
  },
  {
   "cell_type": "code",
   "execution_count": 6,
   "id": "0db689e8",
   "metadata": {
    "execution": {
     "iopub.execute_input": "2025-03-07T14:54:33.407617Z",
     "iopub.status.busy": "2025-03-07T14:54:33.407382Z",
     "iopub.status.idle": "2025-03-07T14:54:33.428418Z",
     "shell.execute_reply": "2025-03-07T14:54:33.427479Z"
    },
    "papermill": {
     "duration": 0.031153,
     "end_time": "2025-03-07T14:54:33.429789",
     "exception": false,
     "start_time": "2025-03-07T14:54:33.398636",
     "status": "completed"
    },
    "tags": []
   },
   "outputs": [
    {
     "name": "stdout",
     "output_type": "stream",
     "text": [
      "<class 'pandas.core.frame.DataFrame'>\n",
      "RangeIndex: 4009 entries, 0 to 4008\n",
      "Data columns (total 4 columns):\n",
      " #   Column    Non-Null Count  Dtype \n",
      "---  ------    --------------  ----- \n",
      " 0   URLs      4009 non-null   object\n",
      " 1   Headline  4009 non-null   object\n",
      " 2   Body      3988 non-null   object\n",
      " 3   Label     4009 non-null   int64 \n",
      "dtypes: int64(1), object(3)\n",
      "memory usage: 125.4+ KB\n"
     ]
    }
   ],
   "source": [
    "data.info()"
   ]
  },
  {
   "cell_type": "code",
   "execution_count": 7,
   "id": "8bdf91b5",
   "metadata": {
    "execution": {
     "iopub.execute_input": "2025-03-07T14:54:33.447031Z",
     "iopub.status.busy": "2025-03-07T14:54:33.446744Z",
     "iopub.status.idle": "2025-03-07T14:54:33.451069Z",
     "shell.execute_reply": "2025-03-07T14:54:33.450263Z"
    },
    "papermill": {
     "duration": 0.014056,
     "end_time": "2025-03-07T14:54:33.452335",
     "exception": false,
     "start_time": "2025-03-07T14:54:33.438279",
     "status": "completed"
    },
    "tags": []
   },
   "outputs": [
    {
     "data": {
      "text/plain": [
       "(4009, 4)"
      ]
     },
     "execution_count": 7,
     "metadata": {},
     "output_type": "execute_result"
    }
   ],
   "source": [
    "data.shape"
   ]
  },
  {
   "cell_type": "code",
   "execution_count": 8,
   "id": "134a2fa4",
   "metadata": {
    "execution": {
     "iopub.execute_input": "2025-03-07T14:54:33.469360Z",
     "iopub.status.busy": "2025-03-07T14:54:33.469130Z",
     "iopub.status.idle": "2025-03-07T14:54:33.475717Z",
     "shell.execute_reply": "2025-03-07T14:54:33.474911Z"
    },
    "papermill": {
     "duration": 0.016321,
     "end_time": "2025-03-07T14:54:33.476928",
     "exception": false,
     "start_time": "2025-03-07T14:54:33.460607",
     "status": "completed"
    },
    "tags": []
   },
   "outputs": [
    {
     "data": {
      "text/plain": [
       "URLs         0\n",
       "Headline     0\n",
       "Body        21\n",
       "Label        0\n",
       "dtype: int64"
      ]
     },
     "execution_count": 8,
     "metadata": {},
     "output_type": "execute_result"
    }
   ],
   "source": [
    "data.isnull().sum() "
   ]
  },
  {
   "cell_type": "markdown",
   "id": "a5850123",
   "metadata": {
    "papermill": {
     "duration": 0.008016,
     "end_time": "2025-03-07T14:54:33.493094",
     "exception": false,
     "start_time": "2025-03-07T14:54:33.485078",
     "status": "completed"
    },
    "tags": []
   },
   "source": [
    "## **Data Cleaning**"
   ]
  },
  {
   "cell_type": "code",
   "execution_count": 9,
   "id": "e1368a4d",
   "metadata": {
    "execution": {
     "iopub.execute_input": "2025-03-07T14:54:33.510263Z",
     "iopub.status.busy": "2025-03-07T14:54:33.509963Z",
     "iopub.status.idle": "2025-03-07T14:54:33.520861Z",
     "shell.execute_reply": "2025-03-07T14:54:33.519952Z"
    },
    "papermill": {
     "duration": 0.021044,
     "end_time": "2025-03-07T14:54:33.522245",
     "exception": false,
     "start_time": "2025-03-07T14:54:33.501201",
     "status": "completed"
    },
    "tags": []
   },
   "outputs": [
    {
     "data": {
      "text/plain": [
       "URLs        0\n",
       "Headline    0\n",
       "Body        0\n",
       "Label       0\n",
       "dtype: int64"
      ]
     },
     "execution_count": 9,
     "metadata": {},
     "output_type": "execute_result"
    }
   ],
   "source": [
    "data= data.dropna() # remove null values\n",
    "data.isnull().sum()"
   ]
  },
  {
   "cell_type": "code",
   "execution_count": 10,
   "id": "1f3a30cc",
   "metadata": {
    "execution": {
     "iopub.execute_input": "2025-03-07T14:54:33.539610Z",
     "iopub.status.busy": "2025-03-07T14:54:33.539370Z",
     "iopub.status.idle": "2025-03-07T14:54:33.543610Z",
     "shell.execute_reply": "2025-03-07T14:54:33.542822Z"
    },
    "papermill": {
     "duration": 0.014121,
     "end_time": "2025-03-07T14:54:33.544748",
     "exception": false,
     "start_time": "2025-03-07T14:54:33.530627",
     "status": "completed"
    },
    "tags": []
   },
   "outputs": [
    {
     "data": {
      "text/plain": [
       "(3988, 4)"
      ]
     },
     "execution_count": 10,
     "metadata": {},
     "output_type": "execute_result"
    }
   ],
   "source": [
    "data.shape"
   ]
  },
  {
   "cell_type": "code",
   "execution_count": 11,
   "id": "a86ce057",
   "metadata": {
    "execution": {
     "iopub.execute_input": "2025-03-07T14:54:33.561902Z",
     "iopub.status.busy": "2025-03-07T14:54:33.561667Z",
     "iopub.status.idle": "2025-03-07T14:54:33.587171Z",
     "shell.execute_reply": "2025-03-07T14:54:33.586528Z"
    },
    "papermill": {
     "duration": 0.035513,
     "end_time": "2025-03-07T14:54:33.588475",
     "exception": false,
     "start_time": "2025-03-07T14:54:33.552962",
     "status": "completed"
    },
    "tags": []
   },
   "outputs": [],
   "source": [
    "# combine headline and body in text variable\n",
    "data.loc[:, 'text'] = data['Headline'].fillna('') + ' ' + data['Body'].fillna('')"
   ]
  },
  {
   "cell_type": "code",
   "execution_count": 12,
   "id": "40e312e2",
   "metadata": {
    "execution": {
     "iopub.execute_input": "2025-03-07T14:54:33.605859Z",
     "iopub.status.busy": "2025-03-07T14:54:33.605653Z",
     "iopub.status.idle": "2025-03-07T14:54:33.611250Z",
     "shell.execute_reply": "2025-03-07T14:54:33.610564Z"
    },
    "papermill": {
     "duration": 0.015619,
     "end_time": "2025-03-07T14:54:33.612468",
     "exception": false,
     "start_time": "2025-03-07T14:54:33.596849",
     "status": "completed"
    },
    "tags": []
   },
   "outputs": [
    {
     "data": {
      "text/plain": [
       "0       Four ways Bob Corker skewered Donald Trump Ima...\n",
       "1       Linklater's war veteran comedy speaks to moder...\n",
       "2       Trump’s Fight With Corker Jeopardizes His Legi...\n",
       "3       Egypt's Cheiron wins tie-up with Pemex for Mex...\n",
       "4       Jason Aldean opens 'SNL' with Vegas tribute Co...\n",
       "                              ...                        \n",
       "4003    CNN and Globalist Exposed - Steve Quayle and A...\n",
       "4004    Trends to Watch Trends to Watch\\n% of readers ...\n",
       "4005    Trump Jr. Is Soon To Give A 30-Minute Speech F...\n",
       "4007    China to accept overseas trial data in bid to ...\n",
       "4008    Vice President Mike Pence Leaves NFL Game Beca...\n",
       "Name: text, Length: 3988, dtype: object"
      ]
     },
     "execution_count": 12,
     "metadata": {},
     "output_type": "execute_result"
    }
   ],
   "source": [
    "data['text']"
   ]
  },
  {
   "cell_type": "code",
   "execution_count": 13,
   "id": "8eb0d27a",
   "metadata": {
    "execution": {
     "iopub.execute_input": "2025-03-07T14:54:33.630582Z",
     "iopub.status.busy": "2025-03-07T14:54:33.630346Z",
     "iopub.status.idle": "2025-03-07T14:54:33.639653Z",
     "shell.execute_reply": "2025-03-07T14:54:33.639061Z"
    },
    "papermill": {
     "duration": 0.019417,
     "end_time": "2025-03-07T14:54:33.640831",
     "exception": false,
     "start_time": "2025-03-07T14:54:33.621414",
     "status": "completed"
    },
    "tags": []
   },
   "outputs": [
    {
     "data": {
      "text/plain": [
       "URLs        0\n",
       "Headline    0\n",
       "Body        0\n",
       "Label       0\n",
       "text        0\n",
       "dtype: int64"
      ]
     },
     "execution_count": 13,
     "metadata": {},
     "output_type": "execute_result"
    }
   ],
   "source": [
    "data.dropna()\n",
    "data.isnull().sum()"
   ]
  },
  {
   "cell_type": "code",
   "execution_count": 14,
   "id": "1f4d90ed",
   "metadata": {
    "execution": {
     "iopub.execute_input": "2025-03-07T14:54:33.658338Z",
     "iopub.status.busy": "2025-03-07T14:54:33.658111Z",
     "iopub.status.idle": "2025-03-07T14:54:33.662293Z",
     "shell.execute_reply": "2025-03-07T14:54:33.661500Z"
    },
    "papermill": {
     "duration": 0.014313,
     "end_time": "2025-03-07T14:54:33.663594",
     "exception": false,
     "start_time": "2025-03-07T14:54:33.649281",
     "status": "completed"
    },
    "tags": []
   },
   "outputs": [
    {
     "data": {
      "text/plain": [
       "(3988, 5)"
      ]
     },
     "execution_count": 14,
     "metadata": {},
     "output_type": "execute_result"
    }
   ],
   "source": [
    "data.shape"
   ]
  },
  {
   "cell_type": "code",
   "execution_count": 15,
   "id": "1322d08e",
   "metadata": {
    "execution": {
     "iopub.execute_input": "2025-03-07T14:54:33.681266Z",
     "iopub.status.busy": "2025-03-07T14:54:33.681062Z",
     "iopub.status.idle": "2025-03-07T14:54:33.689226Z",
     "shell.execute_reply": "2025-03-07T14:54:33.688582Z"
    },
    "papermill": {
     "duration": 0.018499,
     "end_time": "2025-03-07T14:54:33.690473",
     "exception": false,
     "start_time": "2025-03-07T14:54:33.671974",
     "status": "completed"
    },
    "tags": []
   },
   "outputs": [
    {
     "data": {
      "text/html": [
       "<div>\n",
       "<style scoped>\n",
       "    .dataframe tbody tr th:only-of-type {\n",
       "        vertical-align: middle;\n",
       "    }\n",
       "\n",
       "    .dataframe tbody tr th {\n",
       "        vertical-align: top;\n",
       "    }\n",
       "\n",
       "    .dataframe thead th {\n",
       "        text-align: right;\n",
       "    }\n",
       "</style>\n",
       "<table border=\"1\" class=\"dataframe\">\n",
       "  <thead>\n",
       "    <tr style=\"text-align: right;\">\n",
       "      <th></th>\n",
       "      <th>Label</th>\n",
       "      <th>text</th>\n",
       "    </tr>\n",
       "  </thead>\n",
       "  <tbody>\n",
       "    <tr>\n",
       "      <th>0</th>\n",
       "      <td>1</td>\n",
       "      <td>Four ways Bob Corker skewered Donald Trump Ima...</td>\n",
       "    </tr>\n",
       "    <tr>\n",
       "      <th>1</th>\n",
       "      <td>1</td>\n",
       "      <td>Linklater's war veteran comedy speaks to moder...</td>\n",
       "    </tr>\n",
       "    <tr>\n",
       "      <th>2</th>\n",
       "      <td>1</td>\n",
       "      <td>Trump’s Fight With Corker Jeopardizes His Legi...</td>\n",
       "    </tr>\n",
       "    <tr>\n",
       "      <th>3</th>\n",
       "      <td>1</td>\n",
       "      <td>Egypt's Cheiron wins tie-up with Pemex for Mex...</td>\n",
       "    </tr>\n",
       "    <tr>\n",
       "      <th>4</th>\n",
       "      <td>1</td>\n",
       "      <td>Jason Aldean opens 'SNL' with Vegas tribute Co...</td>\n",
       "    </tr>\n",
       "  </tbody>\n",
       "</table>\n",
       "</div>"
      ],
      "text/plain": [
       "   Label                                               text\n",
       "0      1  Four ways Bob Corker skewered Donald Trump Ima...\n",
       "1      1  Linklater's war veteran comedy speaks to moder...\n",
       "2      1  Trump’s Fight With Corker Jeopardizes His Legi...\n",
       "3      1  Egypt's Cheiron wins tie-up with Pemex for Mex...\n",
       "4      1  Jason Aldean opens 'SNL' with Vegas tribute Co..."
      ]
     },
     "execution_count": 15,
     "metadata": {},
     "output_type": "execute_result"
    }
   ],
   "source": [
    "# remove uncessary columns\n",
    "data = data.drop(columns=['Headline', 'Body', 'URLs'])\n",
    "data.head()"
   ]
  },
  {
   "cell_type": "code",
   "execution_count": 16,
   "id": "a4970849",
   "metadata": {
    "execution": {
     "iopub.execute_input": "2025-03-07T14:54:33.708335Z",
     "iopub.status.busy": "2025-03-07T14:54:33.708137Z",
     "iopub.status.idle": "2025-03-07T14:54:33.710924Z",
     "shell.execute_reply": "2025-03-07T14:54:33.710365Z"
    },
    "papermill": {
     "duration": 0.013116,
     "end_time": "2025-03-07T14:54:33.712175",
     "exception": false,
     "start_time": "2025-03-07T14:54:33.699059",
     "status": "completed"
    },
    "tags": []
   },
   "outputs": [],
   "source": [
    "X = data['text']\n",
    "y = data['Label']"
   ]
  },
  {
   "cell_type": "code",
   "execution_count": 17,
   "id": "03496672",
   "metadata": {
    "execution": {
     "iopub.execute_input": "2025-03-07T14:54:33.729924Z",
     "iopub.status.busy": "2025-03-07T14:54:33.729712Z",
     "iopub.status.idle": "2025-03-07T14:54:34.797659Z",
     "shell.execute_reply": "2025-03-07T14:54:34.796935Z"
    },
    "papermill": {
     "duration": 1.07854,
     "end_time": "2025-03-07T14:54:34.799227",
     "exception": false,
     "start_time": "2025-03-07T14:54:33.720687",
     "status": "completed"
    },
    "tags": []
   },
   "outputs": [],
   "source": [
    "# Train Test Split\n",
    "from sklearn.model_selection import train_test_split"
   ]
  },
  {
   "cell_type": "code",
   "execution_count": 18,
   "id": "45c3235a",
   "metadata": {
    "execution": {
     "iopub.execute_input": "2025-03-07T14:54:34.819139Z",
     "iopub.status.busy": "2025-03-07T14:54:34.818753Z",
     "iopub.status.idle": "2025-03-07T14:54:34.824524Z",
     "shell.execute_reply": "2025-03-07T14:54:34.823904Z"
    },
    "papermill": {
     "duration": 0.01712,
     "end_time": "2025-03-07T14:54:34.825765",
     "exception": false,
     "start_time": "2025-03-07T14:54:34.808645",
     "status": "completed"
    },
    "tags": []
   },
   "outputs": [],
   "source": [
    "X_train,X_test,y_train,y_test = train_test_split(X,y,test_size=0.2,random_state=42)"
   ]
  },
  {
   "cell_type": "code",
   "execution_count": 19,
   "id": "a1c6b63e",
   "metadata": {
    "execution": {
     "iopub.execute_input": "2025-03-07T14:54:34.844081Z",
     "iopub.status.busy": "2025-03-07T14:54:34.843824Z",
     "iopub.status.idle": "2025-03-07T14:54:34.847602Z",
     "shell.execute_reply": "2025-03-07T14:54:34.846667Z"
    },
    "papermill": {
     "duration": 0.014325,
     "end_time": "2025-03-07T14:54:34.848835",
     "exception": false,
     "start_time": "2025-03-07T14:54:34.834510",
     "status": "completed"
    },
    "tags": []
   },
   "outputs": [
    {
     "name": "stdout",
     "output_type": "stream",
     "text": [
      "(3190,)\n",
      "(798,)\n",
      "(3190,)\n",
      "(798,)\n"
     ]
    }
   ],
   "source": [
    "print(X_train.shape)\n",
    "print(X_test.shape)\n",
    "print(y_train.shape)\n",
    "print(y_test.shape)\n"
   ]
  },
  {
   "cell_type": "markdown",
   "id": "96894735",
   "metadata": {
    "papermill": {
     "duration": 0.008495,
     "end_time": "2025-03-07T14:54:34.866192",
     "exception": false,
     "start_time": "2025-03-07T14:54:34.857697",
     "status": "completed"
    },
    "tags": []
   },
   "source": [
    "## **Text Preprocessing**"
   ]
  },
  {
   "cell_type": "code",
   "execution_count": 20,
   "id": "ae39d649",
   "metadata": {
    "execution": {
     "iopub.execute_input": "2025-03-07T14:54:34.884203Z",
     "iopub.status.busy": "2025-03-07T14:54:34.883933Z",
     "iopub.status.idle": "2025-03-07T14:54:35.425992Z",
     "shell.execute_reply": "2025-03-07T14:54:35.425034Z"
    },
    "papermill": {
     "duration": 0.552902,
     "end_time": "2025-03-07T14:54:35.427620",
     "exception": false,
     "start_time": "2025-03-07T14:54:34.874718",
     "status": "completed"
    },
    "tags": []
   },
   "outputs": [],
   "source": [
    "import nltk\n",
    "from nltk.corpus import stopwords\n",
    "from nltk.tokenize import word_tokenize\n",
    "from nltk.stem import PorterStemmer, WordNetLemmatizer"
   ]
  },
  {
   "cell_type": "code",
   "execution_count": 21,
   "id": "497d4a89",
   "metadata": {
    "execution": {
     "iopub.execute_input": "2025-03-07T14:54:35.446478Z",
     "iopub.status.busy": "2025-03-07T14:54:35.446206Z",
     "iopub.status.idle": "2025-03-07T14:54:35.891888Z",
     "shell.execute_reply": "2025-03-07T14:54:35.890858Z"
    },
    "papermill": {
     "duration": 0.456714,
     "end_time": "2025-03-07T14:54:35.893538",
     "exception": false,
     "start_time": "2025-03-07T14:54:35.436824",
     "status": "completed"
    },
    "tags": []
   },
   "outputs": [
    {
     "name": "stdout",
     "output_type": "stream",
     "text": [
      "Archive:  /usr/share/nltk_data/corpora/wordnet.zip\r\n",
      "   creating: /usr/share/nltk_data/corpora/wordnet/\r\n",
      "  inflating: /usr/share/nltk_data/corpora/wordnet/lexnames  \r\n",
      "  inflating: /usr/share/nltk_data/corpora/wordnet/data.verb  \r\n",
      "  inflating: /usr/share/nltk_data/corpora/wordnet/index.adv  \r\n",
      "  inflating: /usr/share/nltk_data/corpora/wordnet/adv.exc  \r\n",
      "  inflating: /usr/share/nltk_data/corpora/wordnet/index.verb  \r\n",
      "  inflating: /usr/share/nltk_data/corpora/wordnet/cntlist.rev  \r\n",
      "  inflating: /usr/share/nltk_data/corpora/wordnet/data.adj  \r\n",
      "  inflating: /usr/share/nltk_data/corpora/wordnet/index.adj  \r\n",
      "  inflating: /usr/share/nltk_data/corpora/wordnet/LICENSE  \r\n",
      "  inflating: /usr/share/nltk_data/corpora/wordnet/citation.bib  \r\n",
      "  inflating: /usr/share/nltk_data/corpora/wordnet/noun.exc  \r\n",
      "  inflating: /usr/share/nltk_data/corpora/wordnet/verb.exc  \r\n",
      "  inflating: /usr/share/nltk_data/corpora/wordnet/README  \r\n",
      "  inflating: /usr/share/nltk_data/corpora/wordnet/index.sense  \r\n",
      "  inflating: /usr/share/nltk_data/corpora/wordnet/data.noun  \r\n",
      "  inflating: /usr/share/nltk_data/corpora/wordnet/data.adv  \r\n",
      "  inflating: /usr/share/nltk_data/corpora/wordnet/index.noun  \r\n",
      "  inflating: /usr/share/nltk_data/corpora/wordnet/adj.exc  \r\n"
     ]
    }
   ],
   "source": [
    "!unzip /usr/share/nltk_data/corpora/wordnet.zip -d /usr/share/nltk_data/corpora/"
   ]
  },
  {
   "cell_type": "code",
   "execution_count": 22,
   "id": "542a5f82",
   "metadata": {
    "execution": {
     "iopub.execute_input": "2025-03-07T14:54:35.913140Z",
     "iopub.status.busy": "2025-03-07T14:54:35.912787Z",
     "iopub.status.idle": "2025-03-07T14:54:36.109482Z",
     "shell.execute_reply": "2025-03-07T14:54:36.108688Z"
    },
    "papermill": {
     "duration": 0.207668,
     "end_time": "2025-03-07T14:54:36.110779",
     "exception": false,
     "start_time": "2025-03-07T14:54:35.903111",
     "status": "completed"
    },
    "tags": []
   },
   "outputs": [
    {
     "name": "stdout",
     "output_type": "stream",
     "text": [
      "[nltk_data] Downloading package stopwords to /usr/share/nltk_data...\n",
      "[nltk_data]   Unzipping corpora/stopwords.zip.\n",
      "[nltk_data] Downloading package punkt to /usr/share/nltk_data...\n",
      "[nltk_data]   Package punkt is already up-to-date!\n",
      "[nltk_data] Downloading package wordnet to /usr/share/nltk_data...\n",
      "[nltk_data]   Package wordnet is already up-to-date!\n"
     ]
    },
    {
     "data": {
      "text/plain": [
       "True"
      ]
     },
     "execution_count": 22,
     "metadata": {},
     "output_type": "execute_result"
    }
   ],
   "source": [
    "nltk.download('stopwords')\n",
    "nltk.download('punkt')\n",
    "nltk.download('wordnet') "
   ]
  },
  {
   "cell_type": "code",
   "execution_count": 23,
   "id": "d6daee57",
   "metadata": {
    "execution": {
     "iopub.execute_input": "2025-03-07T14:54:36.130300Z",
     "iopub.status.busy": "2025-03-07T14:54:36.130044Z",
     "iopub.status.idle": "2025-03-07T14:54:36.134994Z",
     "shell.execute_reply": "2025-03-07T14:54:36.134392Z"
    },
    "papermill": {
     "duration": 0.016008,
     "end_time": "2025-03-07T14:54:36.136312",
     "exception": false,
     "start_time": "2025-03-07T14:54:36.120304",
     "status": "completed"
    },
    "tags": []
   },
   "outputs": [],
   "source": [
    "# Initialize stopwords, stemmer, and lemmatizer\n",
    "stop_words = set(stopwords.words('english'))\n",
    "stemmer = PorterStemmer()\n",
    "lemmatizer = WordNetLemmatizer()"
   ]
  },
  {
   "cell_type": "code",
   "execution_count": 24,
   "id": "c9ff1fbf",
   "metadata": {
    "execution": {
     "iopub.execute_input": "2025-03-07T14:54:36.158042Z",
     "iopub.status.busy": "2025-03-07T14:54:36.157772Z",
     "iopub.status.idle": "2025-03-07T14:54:36.162952Z",
     "shell.execute_reply": "2025-03-07T14:54:36.162012Z"
    },
    "papermill": {
     "duration": 0.0194,
     "end_time": "2025-03-07T14:54:36.164787",
     "exception": false,
     "start_time": "2025-03-07T14:54:36.145387",
     "status": "completed"
    },
    "tags": []
   },
   "outputs": [],
   "source": [
    "def preprocess_text(text):\n",
    "    words = word_tokenize(text.lower())\n",
    "    words = [word for word in words if word.isalnum() and word not in stop_words]\n",
    "    words = [stemmer.stem(word) for word in words]  # Stemming\n",
    "    words = [lemmatizer.lemmatize(word) for word in words]  # Lemmatization\n",
    "    return \" \".join(words)"
   ]
  },
  {
   "cell_type": "code",
   "execution_count": 25,
   "id": "e2e9b8fa",
   "metadata": {
    "execution": {
     "iopub.execute_input": "2025-03-07T14:54:36.191096Z",
     "iopub.status.busy": "2025-03-07T14:54:36.190791Z",
     "iopub.status.idle": "2025-03-07T14:55:11.575931Z",
     "shell.execute_reply": "2025-03-07T14:55:11.575234Z"
    },
    "papermill": {
     "duration": 35.40231,
     "end_time": "2025-03-07T14:55:11.577545",
     "exception": false,
     "start_time": "2025-03-07T14:54:36.175235",
     "status": "completed"
    },
    "tags": []
   },
   "outputs": [],
   "source": [
    "X_train = X_train.apply(preprocess_text)\n",
    "X_test = X_test.apply(preprocess_text)"
   ]
  },
  {
   "cell_type": "code",
   "execution_count": 26,
   "id": "c908b97a",
   "metadata": {
    "execution": {
     "iopub.execute_input": "2025-03-07T14:55:11.597650Z",
     "iopub.status.busy": "2025-03-07T14:55:11.597366Z",
     "iopub.status.idle": "2025-03-07T14:55:11.600809Z",
     "shell.execute_reply": "2025-03-07T14:55:11.600017Z"
    },
    "papermill": {
     "duration": 0.014692,
     "end_time": "2025-03-07T14:55:11.602070",
     "exception": false,
     "start_time": "2025-03-07T14:55:11.587378",
     "status": "completed"
    },
    "tags": []
   },
   "outputs": [],
   "source": [
    "from sklearn.feature_extraction.text import TfidfVectorizer"
   ]
  },
  {
   "cell_type": "code",
   "execution_count": 27,
   "id": "33ace302",
   "metadata": {
    "execution": {
     "iopub.execute_input": "2025-03-07T14:55:11.621102Z",
     "iopub.status.busy": "2025-03-07T14:55:11.620858Z",
     "iopub.status.idle": "2025-03-07T14:55:12.539418Z",
     "shell.execute_reply": "2025-03-07T14:55:12.538416Z"
    },
    "papermill": {
     "duration": 0.929797,
     "end_time": "2025-03-07T14:55:12.541063",
     "exception": false,
     "start_time": "2025-03-07T14:55:11.611266",
     "status": "completed"
    },
    "tags": []
   },
   "outputs": [],
   "source": [
    "vectorizer = TfidfVectorizer()\n",
    "X_train_V = vectorizer.fit_transform(X_train)\n",
    "X_test_V = vectorizer.transform(X_test)"
   ]
  },
  {
   "cell_type": "markdown",
   "id": "ad4871d7",
   "metadata": {
    "papermill": {
     "duration": 0.008922,
     "end_time": "2025-03-07T14:55:12.559636",
     "exception": false,
     "start_time": "2025-03-07T14:55:12.550714",
     "status": "completed"
    },
    "tags": []
   },
   "source": [
    "## **Model Training**"
   ]
  },
  {
   "cell_type": "markdown",
   "id": "ec308ae2",
   "metadata": {
    "papermill": {
     "duration": 0.008828,
     "end_time": "2025-03-07T14:55:12.577408",
     "exception": false,
     "start_time": "2025-03-07T14:55:12.568580",
     "status": "completed"
    },
    "tags": []
   },
   "source": [
    "### **Naive Bayes**"
   ]
  },
  {
   "cell_type": "code",
   "execution_count": 28,
   "id": "3801c7d1",
   "metadata": {
    "execution": {
     "iopub.execute_input": "2025-03-07T14:55:12.596518Z",
     "iopub.status.busy": "2025-03-07T14:55:12.596205Z",
     "iopub.status.idle": "2025-03-07T14:55:12.606713Z",
     "shell.execute_reply": "2025-03-07T14:55:12.605884Z"
    },
    "papermill": {
     "duration": 0.02166,
     "end_time": "2025-03-07T14:55:12.608114",
     "exception": false,
     "start_time": "2025-03-07T14:55:12.586454",
     "status": "completed"
    },
    "tags": []
   },
   "outputs": [],
   "source": [
    "from sklearn.naive_bayes import MultinomialNB\n",
    "from sklearn.metrics import accuracy_score"
   ]
  },
  {
   "cell_type": "code",
   "execution_count": 29,
   "id": "d111b9ec",
   "metadata": {
    "execution": {
     "iopub.execute_input": "2025-03-07T14:55:12.627036Z",
     "iopub.status.busy": "2025-03-07T14:55:12.626781Z",
     "iopub.status.idle": "2025-03-07T14:55:12.662299Z",
     "shell.execute_reply": "2025-03-07T14:55:12.661621Z"
    },
    "papermill": {
     "duration": 0.046479,
     "end_time": "2025-03-07T14:55:12.663689",
     "exception": false,
     "start_time": "2025-03-07T14:55:12.617210",
     "status": "completed"
    },
    "tags": []
   },
   "outputs": [],
   "source": [
    "nb_model = MultinomialNB()\n",
    "nb_model = nb_model.fit(X_train_V, y_train)"
   ]
  },
  {
   "cell_type": "code",
   "execution_count": 30,
   "id": "4b468e8b",
   "metadata": {
    "execution": {
     "iopub.execute_input": "2025-03-07T14:55:12.724776Z",
     "iopub.status.busy": "2025-03-07T14:55:12.724489Z",
     "iopub.status.idle": "2025-03-07T14:55:12.728877Z",
     "shell.execute_reply": "2025-03-07T14:55:12.728303Z"
    },
    "papermill": {
     "duration": 0.057107,
     "end_time": "2025-03-07T14:55:12.730155",
     "exception": false,
     "start_time": "2025-03-07T14:55:12.673048",
     "status": "completed"
    },
    "tags": []
   },
   "outputs": [],
   "source": [
    "nb_prediction = nb_model.predict(X_test_V)"
   ]
  },
  {
   "cell_type": "code",
   "execution_count": 31,
   "id": "cde92bab",
   "metadata": {
    "execution": {
     "iopub.execute_input": "2025-03-07T14:55:12.749350Z",
     "iopub.status.busy": "2025-03-07T14:55:12.749108Z",
     "iopub.status.idle": "2025-03-07T14:55:12.754582Z",
     "shell.execute_reply": "2025-03-07T14:55:12.753631Z"
    },
    "papermill": {
     "duration": 0.016275,
     "end_time": "2025-03-07T14:55:12.755797",
     "exception": false,
     "start_time": "2025-03-07T14:55:12.739522",
     "status": "completed"
    },
    "tags": []
   },
   "outputs": [
    {
     "name": "stdout",
     "output_type": "stream",
     "text": [
      "Naïve Bayes Accuracy: 0.9148\n"
     ]
    }
   ],
   "source": [
    "nb_accuracy = accuracy_score(y_test, nb_prediction)\n",
    "print(f'Naïve Bayes Accuracy: {nb_accuracy:.4f}')"
   ]
  },
  {
   "cell_type": "markdown",
   "id": "1ea8d0e9",
   "metadata": {
    "papermill": {
     "duration": 0.008987,
     "end_time": "2025-03-07T14:55:12.774088",
     "exception": false,
     "start_time": "2025-03-07T14:55:12.765101",
     "status": "completed"
    },
    "tags": []
   },
   "source": [
    "### **Random Forest**"
   ]
  },
  {
   "cell_type": "code",
   "execution_count": 32,
   "id": "092c21a6",
   "metadata": {
    "execution": {
     "iopub.execute_input": "2025-03-07T14:55:12.793094Z",
     "iopub.status.busy": "2025-03-07T14:55:12.792841Z",
     "iopub.status.idle": "2025-03-07T14:55:13.006849Z",
     "shell.execute_reply": "2025-03-07T14:55:13.005922Z"
    },
    "papermill": {
     "duration": 0.225313,
     "end_time": "2025-03-07T14:55:13.008510",
     "exception": false,
     "start_time": "2025-03-07T14:55:12.783197",
     "status": "completed"
    },
    "tags": []
   },
   "outputs": [],
   "source": [
    "from sklearn.ensemble import RandomForestClassifier"
   ]
  },
  {
   "cell_type": "code",
   "execution_count": 33,
   "id": "9588afcb",
   "metadata": {
    "execution": {
     "iopub.execute_input": "2025-03-07T14:55:13.028667Z",
     "iopub.status.busy": "2025-03-07T14:55:13.028387Z",
     "iopub.status.idle": "2025-03-07T14:55:14.836878Z",
     "shell.execute_reply": "2025-03-07T14:55:14.835902Z"
    },
    "papermill": {
     "duration": 1.820164,
     "end_time": "2025-03-07T14:55:14.838588",
     "exception": false,
     "start_time": "2025-03-07T14:55:13.018424",
     "status": "completed"
    },
    "tags": []
   },
   "outputs": [],
   "source": [
    "rf_model = RandomForestClassifier(n_estimators=100, random_state=42)\n",
    "rf_model = rf_model.fit(X_train_V, y_train)"
   ]
  },
  {
   "cell_type": "code",
   "execution_count": 34,
   "id": "d6316bb7",
   "metadata": {
    "execution": {
     "iopub.execute_input": "2025-03-07T14:55:14.858786Z",
     "iopub.status.busy": "2025-03-07T14:55:14.858479Z",
     "iopub.status.idle": "2025-03-07T14:55:14.917043Z",
     "shell.execute_reply": "2025-03-07T14:55:14.916056Z"
    },
    "papermill": {
     "duration": 0.070256,
     "end_time": "2025-03-07T14:55:14.918612",
     "exception": false,
     "start_time": "2025-03-07T14:55:14.848356",
     "status": "completed"
    },
    "tags": []
   },
   "outputs": [],
   "source": [
    "rf_prediction = rf_model.predict(X_test_V)"
   ]
  },
  {
   "cell_type": "code",
   "execution_count": 35,
   "id": "221b4bb0",
   "metadata": {
    "execution": {
     "iopub.execute_input": "2025-03-07T14:55:14.938328Z",
     "iopub.status.busy": "2025-03-07T14:55:14.938068Z",
     "iopub.status.idle": "2025-03-07T14:55:14.943433Z",
     "shell.execute_reply": "2025-03-07T14:55:14.942577Z"
    },
    "papermill": {
     "duration": 0.016537,
     "end_time": "2025-03-07T14:55:14.944758",
     "exception": false,
     "start_time": "2025-03-07T14:55:14.928221",
     "status": "completed"
    },
    "tags": []
   },
   "outputs": [
    {
     "name": "stdout",
     "output_type": "stream",
     "text": [
      "Random Forest Accuracy: 0.9674\n"
     ]
    }
   ],
   "source": [
    "rf_accuracy = accuracy_score(y_test, rf_prediction)\n",
    "print(f'Random Forest Accuracy: {rf_accuracy:.4f}')"
   ]
  },
  {
   "cell_type": "markdown",
   "id": "50c31977",
   "metadata": {
    "papermill": {
     "duration": 0.008872,
     "end_time": "2025-03-07T14:55:14.962763",
     "exception": false,
     "start_time": "2025-03-07T14:55:14.953891",
     "status": "completed"
    },
    "tags": []
   },
   "source": [
    "### **LSTM**"
   ]
  },
  {
   "cell_type": "code",
   "execution_count": 36,
   "id": "bde4a4d3",
   "metadata": {
    "execution": {
     "iopub.execute_input": "2025-03-07T14:55:14.981856Z",
     "iopub.status.busy": "2025-03-07T14:55:14.981601Z",
     "iopub.status.idle": "2025-03-07T14:55:27.040517Z",
     "shell.execute_reply": "2025-03-07T14:55:27.039565Z"
    },
    "papermill": {
     "duration": 12.070319,
     "end_time": "2025-03-07T14:55:27.042157",
     "exception": false,
     "start_time": "2025-03-07T14:55:14.971838",
     "status": "completed"
    },
    "tags": []
   },
   "outputs": [],
   "source": [
    "from tensorflow.keras.models import Sequential\n",
    "from tensorflow.keras.layers import Embedding, LSTM, Dense, SpatialDropout1D\n",
    "from tensorflow.keras.preprocessing.text import Tokenizer\n",
    "from tensorflow.keras.preprocessing.sequence import pad_sequences"
   ]
  },
  {
   "cell_type": "code",
   "execution_count": 37,
   "id": "a06f6d79",
   "metadata": {
    "execution": {
     "iopub.execute_input": "2025-03-07T14:55:27.063286Z",
     "iopub.status.busy": "2025-03-07T14:55:27.062763Z",
     "iopub.status.idle": "2025-03-07T14:55:27.991424Z",
     "shell.execute_reply": "2025-03-07T14:55:27.990242Z"
    },
    "papermill": {
     "duration": 0.940503,
     "end_time": "2025-03-07T14:55:27.993141",
     "exception": false,
     "start_time": "2025-03-07T14:55:27.052638",
     "status": "completed"
    },
    "tags": []
   },
   "outputs": [],
   "source": [
    "tokenizer = Tokenizer(num_words=500)\n",
    "tokenizer.fit_on_texts(X_train)\n",
    "X_train_seq = tokenizer.texts_to_sequences(X_train)\n",
    "X_test_seq = tokenizer.texts_to_sequences(X_test)"
   ]
  },
  {
   "cell_type": "code",
   "execution_count": 38,
   "id": "47b3c5f6",
   "metadata": {
    "execution": {
     "iopub.execute_input": "2025-03-07T14:55:28.013417Z",
     "iopub.status.busy": "2025-03-07T14:55:28.013124Z",
     "iopub.status.idle": "2025-03-07T14:55:28.017138Z",
     "shell.execute_reply": "2025-03-07T14:55:28.016277Z"
    },
    "papermill": {
     "duration": 0.015436,
     "end_time": "2025-03-07T14:55:28.018542",
     "exception": false,
     "start_time": "2025-03-07T14:55:28.003106",
     "status": "completed"
    },
    "tags": []
   },
   "outputs": [],
   "source": [
    "max_length = max(len(seq) for seq in X_train_seq)"
   ]
  },
  {
   "cell_type": "code",
   "execution_count": 39,
   "id": "e000f52d",
   "metadata": {
    "execution": {
     "iopub.execute_input": "2025-03-07T14:55:28.037837Z",
     "iopub.status.busy": "2025-03-07T14:55:28.037623Z",
     "iopub.status.idle": "2025-03-07T14:55:28.079002Z",
     "shell.execute_reply": "2025-03-07T14:55:28.078349Z"
    },
    "papermill": {
     "duration": 0.052652,
     "end_time": "2025-03-07T14:55:28.080395",
     "exception": false,
     "start_time": "2025-03-07T14:55:28.027743",
     "status": "completed"
    },
    "tags": []
   },
   "outputs": [],
   "source": [
    "X_train_pad = pad_sequences(X_train_seq,maxlen= max_length, padding= 'post')\n",
    "X_test_pad = pad_sequences(X_test_seq, maxlen= max_length, padding= 'post')"
   ]
  },
  {
   "cell_type": "code",
   "execution_count": 40,
   "id": "30037237",
   "metadata": {
    "execution": {
     "iopub.execute_input": "2025-03-07T14:55:28.100144Z",
     "iopub.status.busy": "2025-03-07T14:55:28.099885Z",
     "iopub.status.idle": "2025-03-07T14:55:28.103160Z",
     "shell.execute_reply": "2025-03-07T14:55:28.102505Z"
    },
    "papermill": {
     "duration": 0.014486,
     "end_time": "2025-03-07T14:55:28.104338",
     "exception": false,
     "start_time": "2025-03-07T14:55:28.089852",
     "status": "completed"
    },
    "tags": []
   },
   "outputs": [],
   "source": [
    "y_train_np = np.array(y_train)\n",
    "y_test_np = np.array(y_test)"
   ]
  },
  {
   "cell_type": "code",
   "execution_count": 41,
   "id": "5197c301",
   "metadata": {
    "execution": {
     "iopub.execute_input": "2025-03-07T14:55:28.123470Z",
     "iopub.status.busy": "2025-03-07T14:55:28.123265Z",
     "iopub.status.idle": "2025-03-07T14:55:28.902093Z",
     "shell.execute_reply": "2025-03-07T14:55:28.901394Z"
    },
    "papermill": {
     "duration": 0.789987,
     "end_time": "2025-03-07T14:55:28.903580",
     "exception": false,
     "start_time": "2025-03-07T14:55:28.113593",
     "status": "completed"
    },
    "tags": []
   },
   "outputs": [],
   "source": [
    "lstm_model = Sequential([\n",
    "    Embedding(input_dim=5000, output_dim= 128),\n",
    "    SpatialDropout1D(0.2),\n",
    "    LSTM(100, dropout=0.2, recurrent_dropout=0.2),\n",
    "    Dense(1,activation='sigmoid')\n",
    "])"
   ]
  },
  {
   "cell_type": "code",
   "execution_count": 42,
   "id": "efa9188d",
   "metadata": {
    "execution": {
     "iopub.execute_input": "2025-03-07T14:55:28.923650Z",
     "iopub.status.busy": "2025-03-07T14:55:28.923410Z",
     "iopub.status.idle": "2025-03-07T14:59:23.576384Z",
     "shell.execute_reply": "2025-03-07T14:59:23.575583Z"
    },
    "papermill": {
     "duration": 234.664286,
     "end_time": "2025-03-07T14:59:23.577787",
     "exception": false,
     "start_time": "2025-03-07T14:55:28.913501",
     "status": "completed"
    },
    "tags": []
   },
   "outputs": [
    {
     "name": "stdout",
     "output_type": "stream",
     "text": [
      "Epoch 1/5\n",
      "\u001b[1m25/25\u001b[0m \u001b[32m━━━━━━━━━━━━━━━━━━━━\u001b[0m\u001b[37m\u001b[0m \u001b[1m52s\u001b[0m 2s/step - accuracy: 0.5222 - loss: 0.6928 - val_accuracy: 0.4361 - val_loss: 0.6946\n",
      "Epoch 2/5\n",
      "\u001b[1m25/25\u001b[0m \u001b[32m━━━━━━━━━━━━━━━━━━━━\u001b[0m\u001b[37m\u001b[0m \u001b[1m45s\u001b[0m 2s/step - accuracy: 0.4890 - loss: 0.6937 - val_accuracy: 0.5639 - val_loss: 0.6890\n",
      "Epoch 3/5\n",
      "\u001b[1m25/25\u001b[0m \u001b[32m━━━━━━━━━━━━━━━━━━━━\u001b[0m\u001b[37m\u001b[0m \u001b[1m46s\u001b[0m 2s/step - accuracy: 0.5160 - loss: 0.6928 - val_accuracy: 0.5639 - val_loss: 0.6884\n",
      "Epoch 4/5\n",
      "\u001b[1m25/25\u001b[0m \u001b[32m━━━━━━━━━━━━━━━━━━━━\u001b[0m\u001b[37m\u001b[0m \u001b[1m46s\u001b[0m 2s/step - accuracy: 0.5371 - loss: 0.6912 - val_accuracy: 0.5639 - val_loss: 0.6893\n",
      "Epoch 5/5\n",
      "\u001b[1m25/25\u001b[0m \u001b[32m━━━━━━━━━━━━━━━━━━━━\u001b[0m\u001b[37m\u001b[0m \u001b[1m46s\u001b[0m 2s/step - accuracy: 0.5282 - loss: 0.6921 - val_accuracy: 0.5639 - val_loss: 0.6893\n"
     ]
    },
    {
     "data": {
      "text/plain": [
       "<keras.src.callbacks.history.History at 0x7e2b8d535d20>"
      ]
     },
     "execution_count": 42,
     "metadata": {},
     "output_type": "execute_result"
    }
   ],
   "source": [
    "lstm_model.compile(loss='binary_crossentropy', optimizer='adam', metrics=['accuracy'])\n",
    "lstm_model.fit(X_train_pad, y_train_np, epochs=5, batch_size=128, validation_data=(X_test_pad,y_test_np))"
   ]
  },
  {
   "cell_type": "code",
   "execution_count": 43,
   "id": "faedd799",
   "metadata": {
    "execution": {
     "iopub.execute_input": "2025-03-07T14:59:23.609695Z",
     "iopub.status.busy": "2025-03-07T14:59:23.609418Z",
     "iopub.status.idle": "2025-03-07T14:59:34.528254Z",
     "shell.execute_reply": "2025-03-07T14:59:34.527104Z"
    },
    "papermill": {
     "duration": 10.936058,
     "end_time": "2025-03-07T14:59:34.529708",
     "exception": false,
     "start_time": "2025-03-07T14:59:23.593650",
     "status": "completed"
    },
    "tags": []
   },
   "outputs": [
    {
     "name": "stdout",
     "output_type": "stream",
     "text": [
      "LSTM Accuracy: 0.5639\n"
     ]
    }
   ],
   "source": [
    "lstm_loss, lstm_accuracy = lstm_model.evaluate(X_test_pad, y_test_np, verbose=0)\n",
    "print(f'LSTM Accuracy: {lstm_accuracy:.4f}')"
   ]
  },
  {
   "cell_type": "markdown",
   "id": "811b818e",
   "metadata": {
    "papermill": {
     "duration": 0.014952,
     "end_time": "2025-03-07T14:59:34.560439",
     "exception": false,
     "start_time": "2025-03-07T14:59:34.545487",
     "status": "completed"
    },
    "tags": []
   },
   "source": [
    "### **Accuracy**"
   ]
  },
  {
   "cell_type": "code",
   "execution_count": 44,
   "id": "2ae867eb",
   "metadata": {
    "execution": {
     "iopub.execute_input": "2025-03-07T14:59:34.591502Z",
     "iopub.status.busy": "2025-03-07T14:59:34.591224Z",
     "iopub.status.idle": "2025-03-07T14:59:34.596804Z",
     "shell.execute_reply": "2025-03-07T14:59:34.595959Z"
    },
    "papermill": {
     "duration": 0.022477,
     "end_time": "2025-03-07T14:59:34.598002",
     "exception": false,
     "start_time": "2025-03-07T14:59:34.575525",
     "status": "completed"
    },
    "tags": []
   },
   "outputs": [
    {
     "name": "stdout",
     "output_type": "stream",
     "text": [
      "\n",
      " Model Accuracies:\n",
      "Random Forest: 0.9674\n",
      "Naïve Bayes: 0.9148\n",
      "LSTM: 0.5639\n"
     ]
    }
   ],
   "source": [
    "def sort_model_accuracies(model_accuracies):\n",
    "    sorted_accuracies = sorted(model_accuracies.items(), key=lambda x: x[1], reverse=True)\n",
    "    print(\"\\n Model Accuracies:\")\n",
    "    for model, accuracy in sorted_accuracies:\n",
    "        print(f\"{model}: {accuracy:.4f}\")\n",
    "\n",
    "model_accuracies = {\n",
    "    'Naïve Bayes': nb_accuracy,\n",
    "    'Random Forest': rf_accuracy,\n",
    "    'LSTM': lstm_accuracy\n",
    "}\n",
    "\n",
    "sort_model_accuracies(model_accuracies)"
   ]
  },
  {
   "cell_type": "code",
   "execution_count": 45,
   "id": "e49973db",
   "metadata": {
    "execution": {
     "iopub.execute_input": "2025-03-07T14:59:34.629663Z",
     "iopub.status.busy": "2025-03-07T14:59:34.629419Z",
     "iopub.status.idle": "2025-03-07T14:59:34.632552Z",
     "shell.execute_reply": "2025-03-07T14:59:34.631889Z"
    },
    "papermill": {
     "duration": 0.020424,
     "end_time": "2025-03-07T14:59:34.633770",
     "exception": false,
     "start_time": "2025-03-07T14:59:34.613346",
     "status": "completed"
    },
    "tags": []
   },
   "outputs": [],
   "source": [
    "# save random forest model\n",
    "import pickle\n",
    "import joblib"
   ]
  },
  {
   "cell_type": "code",
   "execution_count": 46,
   "id": "3f0a9578",
   "metadata": {
    "execution": {
     "iopub.execute_input": "2025-03-07T14:59:34.664850Z",
     "iopub.status.busy": "2025-03-07T14:59:34.664636Z",
     "iopub.status.idle": "2025-03-07T14:59:34.711156Z",
     "shell.execute_reply": "2025-03-07T14:59:34.710512Z"
    },
    "papermill": {
     "duration": 0.063226,
     "end_time": "2025-03-07T14:59:34.712277",
     "exception": false,
     "start_time": "2025-03-07T14:59:34.649051",
     "status": "completed"
    },
    "tags": []
   },
   "outputs": [
    {
     "data": {
      "text/plain": [
       "['rf_model.pkl']"
      ]
     },
     "execution_count": 46,
     "metadata": {},
     "output_type": "execute_result"
    }
   ],
   "source": [
    "joblib.dump(rf_model, 'rf_model.pkl')"
   ]
  },
  {
   "cell_type": "code",
   "execution_count": 47,
   "id": "fb3e6169",
   "metadata": {
    "execution": {
     "iopub.execute_input": "2025-03-07T14:59:34.743860Z",
     "iopub.status.busy": "2025-03-07T14:59:34.743632Z",
     "iopub.status.idle": "2025-03-07T14:59:34.880888Z",
     "shell.execute_reply": "2025-03-07T14:59:34.880112Z"
    },
    "papermill": {
     "duration": 0.15451,
     "end_time": "2025-03-07T14:59:34.882282",
     "exception": false,
     "start_time": "2025-03-07T14:59:34.727772",
     "status": "completed"
    },
    "tags": []
   },
   "outputs": [
    {
     "data": {
      "text/plain": [
       "['vectorizer.pkl']"
      ]
     },
     "execution_count": 47,
     "metadata": {},
     "output_type": "execute_result"
    }
   ],
   "source": [
    "# save vectorize file\n",
    "joblib.dump(vectorizer, 'vectorizer.pkl')"
   ]
  }
 ],
 "metadata": {
  "kaggle": {
   "accelerator": "gpu",
   "dataSources": [
    {
     "datasetId": 6410,
     "sourceId": 9356,
     "sourceType": "datasetVersion"
    }
   ],
   "dockerImageVersionId": 30918,
   "isGpuEnabled": true,
   "isInternetEnabled": true,
   "language": "python",
   "sourceType": "notebook"
  },
  "kernelspec": {
   "display_name": "Python 3",
   "language": "python",
   "name": "python3"
  },
  "language_info": {
   "codemirror_mode": {
    "name": "ipython",
    "version": 3
   },
   "file_extension": ".py",
   "mimetype": "text/x-python",
   "name": "python",
   "nbconvert_exporter": "python",
   "pygments_lexer": "ipython3",
   "version": "3.10.12"
  },
  "papermill": {
   "default_parameters": {},
   "duration": 307.924303,
   "end_time": "2025-03-07T14:59:37.431629",
   "environment_variables": {},
   "exception": null,
   "input_path": "__notebook__.ipynb",
   "output_path": "__notebook__.ipynb",
   "parameters": {},
   "start_time": "2025-03-07T14:54:29.507326",
   "version": "2.6.0"
  }
 },
 "nbformat": 4,
 "nbformat_minor": 5
}
